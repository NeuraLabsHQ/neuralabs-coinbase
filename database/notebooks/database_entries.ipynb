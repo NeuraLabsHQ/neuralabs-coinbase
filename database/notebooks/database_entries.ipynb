{
 "cells": [
  {
   "cell_type": "code",
   "execution_count": 1,
   "id": "6b1f3b24",
   "metadata": {},
   "outputs": [],
   "source": [
    "import yaml\n",
    "import os\n",
    "import psycopg2\n",
    "import redis\n",
    "from dotenv import load_dotenv\n",
    "import json\n",
    "import hashlib\n",
    "from datetime import datetime"
   ]
  },
  {
   "cell_type": "code",
   "execution_count": 2,
   "id": "6f56a730",
   "metadata": {},
   "outputs": [
    {
     "data": {
      "text/plain": [
       "True"
      ]
     },
     "execution_count": 2,
     "metadata": {},
     "output_type": "execute_result"
    }
   ],
   "source": [
    "load_dotenv()"
   ]
  },
  {
   "cell_type": "code",
   "execution_count": 3,
   "id": "e49937fb",
   "metadata": {},
   "outputs": [],
   "source": [
    "pg_user = os.getenv('POSTGRES_USER')\n",
    "pg_password = os.getenv('POSTGRES_PASSWORD')\n",
    "pg_db = os.getenv('POSTGRES_DB')\n",
    "pg_host = os.getenv('POSTGRES_HOST', 'localhost')\n",
    "pg_port = os.getenv('POSTGRES_PORT', '5432')\n"
   ]
  },
  {
   "cell_type": "code",
   "execution_count": 4,
   "id": "7ceeb519",
   "metadata": {},
   "outputs": [],
   "source": [
    "pg_conn = psycopg2.connect(\n",
    "    host=pg_host,\n",
    "    database=pg_db,\n",
    "    user=pg_user,\n",
    "    password=pg_password,\n",
    "    port=pg_port\n",
    ")"
   ]
  },
  {
   "cell_type": "code",
   "execution_count": 5,
   "id": "8cea408c",
   "metadata": {},
   "outputs": [
    {
     "name": "stdout",
     "output_type": "stream",
     "text": [
      "Successfully connected to PostgreSQL.\n"
     ]
    }
   ],
   "source": [
    "pg_cursor = pg_conn.cursor()\n",
    "print(\"Successfully connected to PostgreSQL.\")"
   ]
  },
  {
   "cell_type": "code",
   "execution_count": 6,
   "id": "df853e37",
   "metadata": {},
   "outputs": [],
   "source": [
    "# This is the Data I want to add\n",
    "\n",
    "portfolio_data = {\n",
    "    \"name\": \"Portfolio Manager\",\n",
    "    \"description\": \"An AI Blockchain driven portfolio management system that optimizes asset allocation and risk management in Aptos.\",\n",
    "    \"tags\": [\"AI\", \"Blockchain\", \"Deep Learning\"],\n",
    "    \"creation_date\": \"March-16-2025 07:15:39\",\n",
    "    \"owner\": \"0x22b7e94bb08eb07d59d1a56345e572a5b4409563bc0c0c8fd3eec0ec0bea8d46\",\n",
    "    \"last_edited\": \"March-23-2025 08:42:29\",\n",
    "    \"license\": \"MIT\",\n",
    "    \"fork\": \"Original\",\n",
    "    \"socials\": \"X: @harshp_16 | GitHub: harshpoddar03\",\n",
    "    \"deployment_status\": \"Active\",\n",
    "    \"md5\": \"e67044f2cc088c8f5c359faf3c21e7e1\",\n",
    "    \"version\": \"v0.3\",\n",
    "    \"published_date\": \"March-23-2025 08:42:49\",\n",
    "    \"publish_hash\": \"0x1c66d49cc66cdc29d45d93b8388acdd62079cf18713de64a84c5260ed40ba0bb\",\n",
    "    \"chain\": \"APTOS Testnet\",\n",
    "    \"chain_id\": \"1\",\n",
    "    \"chain_status\": \"Active\",\n",
    "    \"chain_explorer\": \"explorer.aptoslabs.com/?network=testnet\",\n",
    "    \"contract_name\": \"NeuraSynthesis\",\n",
    "    \"contract_version\": \"v0.01\",\n",
    "    \"contract_id\": \"0x48b3475fd2c5d2ae55b80154ea006e6ed6ffb78c8e7dbfd14288168d7da3f7e6\",\n",
    "    \"nft_id\": \"NFT-001\",\n",
    "    \"nft_mint_hash\": \"0x20dd388a619f40aaabc36da3314278d0ad763ceb814d838e9853cbe944159af3\",\n",
    "    \"my_access\": \"Level 6\",\n",
    "    \"no_of_access\": \"2\",\n",
    "    \"monetization\": \"None\"\n",
    "}"
   ]
  },
  {
   "cell_type": "code",
   "execution_count": 7,
   "id": "f0a400c0",
   "metadata": {},
   "outputs": [],
   "source": [
    "name_owner_concat = portfolio_data[\"name\"] + portfolio_data[\"owner\"]\n",
    "agent_id = f\"PM-{hashlib.md5(name_owner_concat.encode()).hexdigest()}\""
   ]
  },
  {
   "cell_type": "code",
   "execution_count": 8,
   "id": "d6a736ee",
   "metadata": {},
   "outputs": [
    {
     "data": {
      "text/plain": [
       "'PM-3542974ceeaf69a01cd24288f66d52bb'"
      ]
     },
     "execution_count": 8,
     "metadata": {},
     "output_type": "execute_result"
    }
   ],
   "source": [
    "agent_id"
   ]
  },
  {
   "cell_type": "code",
   "execution_count": 9,
   "id": "614742ef",
   "metadata": {},
   "outputs": [
    {
     "name": "stdout",
     "output_type": "stream",
     "text": [
      "Tables in the database:\n",
      "contract_details\n",
      "blockchain_agent_data\n",
      "nft_access\n",
      "access_level_table\n",
      "conversations\n",
      "messages\n",
      "flowbuilder_blocks\n",
      "salt_email\n",
      "chain_details\n",
      "user_auth\n",
      "agent\n",
      "unpublished_agent\n",
      "published_agent\n",
      "metadata\n"
     ]
    }
   ],
   "source": [
    "# check tables in the database\n",
    "pg_cursor.execute(\"SELECT table_name FROM information_schema.tables WHERE table_schema='public'\")\n",
    "tables = pg_cursor.fetchall()\n",
    "print(\"Tables in the database:\")\n",
    "for table in tables:\n",
    "    print(table[0])"
   ]
  },
  {
   "cell_type": "code",
   "execution_count": 10,
   "id": "f29267e5",
   "metadata": {},
   "outputs": [],
   "source": [
    "# pg_conn.rollback()"
   ]
  },
  {
   "cell_type": "code",
   "execution_count": 11,
   "id": "c9cbb54f",
   "metadata": {},
   "outputs": [],
   "source": [
    "pg_cursor.execute(\"\"\"\n",
    "    INSERT INTO \"chain_details\" (chain_id, chain, chain_status, chain_explorer)\n",
    "    VALUES (%s, %s, %s, %s)\n",
    "\"\"\", (\n",
    "    101,\n",
    "    \"SUI\",\n",
    "    \"ACTIVE\",\n",
    "    \"https://suiscan.xyz/testnet/\"\n",
    "))\n"
   ]
  },
  {
   "cell_type": "code",
   "execution_count": null,
   "id": "f4fdf605",
   "metadata": {},
   "outputs": [],
   "source": [
    "# # 2. Insert into CONTRACT_DETAILS\n",
    "# pg_cursor.execute(\"\"\"\n",
    "#     INSERT INTO \"contract_details\" (\"contract_id\", \"chain_id\", \"contract_name\", \"contract_version\")\n",
    "#     VALUES (%s, %s, %s, %s)\n",
    "#     ON CONFLICT (\"contract_id\") DO UPDATE SET\n",
    "#         \"chain_id\" = EXCLUDED.\"chain_id\",\n",
    "#         \"contract_name\" = EXCLUDED.\"contract_name\",\n",
    "#         \"contract_version\" = EXCLUDED.\"contract_version\"\n",
    "# \"\"\", (\n",
    "#     portfolio_data[\"contract_id\"],\n",
    "#     portfolio_data[\"chain_id\"],\n",
    "#     portfolio_data[\"contract_name\"],\n",
    "#     portfolio_data[\"contract_version\"]\n",
    "# ))\n"
   ]
  },
  {
   "cell_type": "code",
   "execution_count": null,
   "id": "6b721b47",
   "metadata": {},
   "outputs": [],
   "source": [
    "# # 3. Ensure user exists in USER_AUTH\n",
    "# pg_cursor.execute(\"\"\"\n",
    "#     INSERT INTO \"user_auth\" (\"user_pub_key\",\"username\",\"email\",\"chain_id\",\"created_at\")\n",
    "#     VALUES (%s, %s, %s, %s, %s)\n",
    "#     ON CONFLICT (\"user_pub_key\") DO NOTHING\n",
    "# \"\"\", (\n",
    "#     portfolio_data[\"owner\"],\n",
    "#     # give random username and email\n",
    "#     f\"{portfolio_data['owner'][:8]}_user\",\n",
    "#     f\"{portfolio_data['owner'][:8]}@example.com\",\n",
    "#     portfolio_data[\"chain_id\"],\n",
    "#     datetime.now()\n",
    "# ))\n"
   ]
  },
  {
   "cell_type": "code",
   "execution_count": null,
   "id": "4793f97b",
   "metadata": {},
   "outputs": [],
   "source": [
    "# # 4. Insert into AGENT\n",
    "# pg_cursor.execute(\"\"\"\n",
    "#     INSERT INTO \"agent\" (\n",
    "#         \"agent_id\", \"creation_date\", \"owner\", \"status\", \"tags\", \"license\", \"fork\", \"socials\", \n",
    "#         \"description\", \"name\", \"chain_id\"\n",
    "#     )\n",
    "#     VALUES (%s, %s, %s, %s, %s, %s, %s, %s, %s, %s, %s)\n",
    "#     ON CONFLICT (\"agent_id\") DO UPDATE SET\n",
    "#         \"status\" = EXCLUDED.\"status\",\n",
    "#         \"tags\" = EXCLUDED.\"tags\",\n",
    "#         \"license\" = EXCLUDED.\"license\",\n",
    "#         \"fork\" = EXCLUDED.\"fork\",\n",
    "#         \"socials\" = EXCLUDED.\"socials\",\n",
    "#         \"description\" = EXCLUDED.\"description\",\n",
    "#         \"name\" = EXCLUDED.\"name\"\n",
    "# \"\"\", (\n",
    "#     agent_id,\n",
    "#     datetime.strptime(portfolio_data[\"creation_date\"], \"%B-%d-%Y %H:%M:%S\"),\n",
    "#     portfolio_data[\"owner\"],\n",
    "#     portfolio_data[\"deployment_status\"],\n",
    "#     json.dumps(portfolio_data[\"tags\"]),  # Convert tags list to JSON array\n",
    "#     portfolio_data[\"license\"],\n",
    "#     portfolio_data[\"fork\"],\n",
    "#     json.dumps(portfolio_data[\"socials\"]),\n",
    "#     portfolio_data[\"description\"],\n",
    "#     portfolio_data[\"name\"],\n",
    "#     portfolio_data[\"chain_id\"]\n",
    "# ))"
   ]
  },
  {
   "cell_type": "code",
   "execution_count": null,
   "id": "46e03f2d",
   "metadata": {},
   "outputs": [],
   "source": [
    "# # 5. Insert into PUBLISHED_AGENT\n",
    "# workflow_json = json.dumps({})\n",
    "\n",
    "# pg_cursor.execute(\"\"\"\n",
    "#     INSERT INTO \"published_agent\" (\"agent_id\", \"last_edited_time\", \"workflow\", \"md5\")\n",
    "#     VALUES (%s, %s, %s, %s)\n",
    "#     ON CONFLICT (\"agent_id\") DO UPDATE SET\n",
    "#         \"last_edited_time\" = EXCLUDED.\"last_edited_time\",\n",
    "#         \"workflow\" = EXCLUDED.\"workflow\",\n",
    "#         \"md5\" = EXCLUDED.\"md5\"\n",
    "# \"\"\", (\n",
    "#     agent_id,\n",
    "#     datetime.strptime(portfolio_data[\"last_edited\"], \"%B-%d-%Y %H:%M:%S\"),\n",
    "#     workflow_json,\n",
    "#     portfolio_data[\"md5\"]\n",
    "# ))"
   ]
  },
  {
   "cell_type": "code",
   "execution_count": null,
   "id": "5ae5b854",
   "metadata": {},
   "outputs": [],
   "source": [
    "# # 6. Insert into BLOCKCHAIN_AGENT_DATA\n",
    "# pg_cursor.execute(\"\"\"\n",
    "#     INSERT INTO \"blockchain_agent_data\" (\n",
    "#         \"agent_id\", \"version\", \"published_date\", \"published_hash\", \n",
    "#         \"contract_id\", \"nft_id\", \"nft_mint_trx_id\"\n",
    "#     )\n",
    "#     VALUES (%s, %s, %s, %s, %s, %s, %s)\n",
    "#     ON CONFLICT (\"agent_id\") DO UPDATE SET\n",
    "#         \"version\" = EXCLUDED.\"version\",\n",
    "#         \"published_date\" = EXCLUDED.\"published_date\",\n",
    "#         \"published_hash\" = EXCLUDED.\"published_hash\",\n",
    "#         \"contract_id\" = EXCLUDED.\"contract_id\",\n",
    "#         \"nft_id\" = EXCLUDED.\"nft_id\",\n",
    "#         \"nft_mint_trx_id\" = EXCLUDED.\"nft_mint_trx_id\"\n",
    "# \"\"\", (\n",
    "#     agent_id,\n",
    "#     portfolio_data[\"version\"],\n",
    "#     datetime.strptime(portfolio_data[\"published_date\"], \"%B-%d-%Y %H:%M:%S\"),\n",
    "#     portfolio_data[\"publish_hash\"],\n",
    "#     portfolio_data[\"contract_id\"],\n",
    "#     portfolio_data[\"nft_id\"],\n",
    "#     portfolio_data[\"nft_mint_hash\"]\n",
    "# ))\n"
   ]
  },
  {
   "cell_type": "code",
   "execution_count": null,
   "id": "8345a04b",
   "metadata": {},
   "outputs": [],
   "source": [
    "# # 7. Ensure ACCESS_LEVEL_TABLE entry exists\n",
    "# access_level = int(portfolio_data[\"my_access\"].split()[-1])\n",
    "\n",
    "# pg_cursor.execute(\"\"\"\n",
    "#     INSERT INTO \"access_level_table\" (\"access_level\", \"access_level_name\", \"descriptions_and_permissions\")\n",
    "#     VALUES (%s, %s, %s)\n",
    "#     ON CONFLICT (\"access_level\") DO NOTHING\n",
    "# \"\"\", (\n",
    "#     access_level,\n",
    "#     portfolio_data[\"my_access\"],\n",
    "#     json.dumps(portfolio_data[\"description\"])\n",
    "# ))"
   ]
  },
  {
   "cell_type": "code",
   "execution_count": 12,
   "id": "f380a336",
   "metadata": {},
   "outputs": [],
   "source": [
    "# 7. Ensure ACCESS_LEVEL_TABLE entry exists\n",
    "# access_level = int(portfolio_data[\"my_access\"].split()[-1])\n",
    "\n",
    "# pg_cursor.execute(\"\"\"\n",
    "#     INSERT INTO \"access_level_table\" (\"access_level\", \"access_level_name\", \"descriptions_and_permissions\")\n",
    "#     VALUES (%s, %s, %s)\n",
    "#     ON CONFLICT (\"access_level\") DO NOTHING\n",
    "# \"\"\", (\n",
    "#     5,\n",
    "#     \"Level 5\",\n",
    "#     json.dumps(\"Basic + Edit + Monetize + share + coowner\")\n",
    "# ))\n",
    "# make for 6 lvls\n",
    "\n",
    "pg_cursor.execute(\"\"\"\n",
    "    INSERT INTO \"access_level_table\" (\"access_level\", \"access_level_name\", \"descriptions_and_permissions\")\n",
    "    VALUES (%s, %s, %s)\n",
    "    ON CONFLICT (\"access_level\") DO NOTHING\n",
    "\"\"\", (\n",
    "    1,\n",
    "    \"Level 1\",\n",
    "    json.dumps(\"Level 1\")\n",
    "))\n",
    "\n",
    "pg_cursor.execute(\"\"\"\n",
    "    INSERT INTO \"access_level_table\" (\"access_level\", \"access_level_name\", \"descriptions_and_permissions\")\n",
    "    VALUES (%s, %s, %s)\n",
    "    ON CONFLICT (\"access_level\") DO NOTHING\n",
    "\"\"\", (\n",
    "    2,\n",
    "    \"Level 2\",\n",
    "    json.dumps(\"Level 2\")\n",
    "))\n",
    "\n",
    "pg_cursor.execute(\"\"\"\n",
    "    INSERT INTO \"access_level_table\" (\"access_level\", \"access_level_name\", \"descriptions_and_permissions\")\n",
    "    VALUES (%s, %s, %s)\n",
    "    ON CONFLICT (\"access_level\") DO NOTHING\n",
    "\"\"\", (\n",
    "    3,\n",
    "    \"Level 3\",\n",
    "    json.dumps(\"Level 3\")\n",
    "))\n",
    "\n",
    "pg_cursor.execute(\"\"\"\n",
    "    INSERT INTO \"access_level_table\" (\"access_level\", \"access_level_name\", \"descriptions_and_permissions\")\n",
    "    VALUES (%s, %s, %s)\n",
    "    ON CONFLICT (\"access_level\") DO NOTHING\n",
    "\"\"\", (\n",
    "    4,\n",
    "    \"Level 4\",\n",
    "    json.dumps(\"Level 4\")\n",
    "))\n",
    "\n",
    "pg_cursor.execute(\"\"\"\n",
    "    INSERT INTO \"access_level_table\" (\"access_level\", \"access_level_name\", \"descriptions_and_permissions\")\n",
    "    VALUES (%s, %s, %s)\n",
    "    ON CONFLICT (\"access_level\") DO NOTHING\n",
    "\"\"\", (\n",
    "    5,\n",
    "    \"Level 5\",\n",
    "    json.dumps(\"Level 5\")\n",
    "))\n",
    "\n",
    "pg_cursor.execute(\"\"\"\n",
    "    INSERT INTO \"access_level_table\" (\"access_level\", \"access_level_name\", \"descriptions_and_permissions\")\n",
    "    VALUES (%s, %s, %s)\n",
    "    ON CONFLICT (\"access_level\") DO NOTHING\n",
    "\"\"\", (\n",
    "    6,\n",
    "    \"Level 6\",\n",
    "    json.dumps(\"Level 6\")\n",
    "))\n",
    "\n",
    "\n",
    "\n"
   ]
  },
  {
   "cell_type": "code",
   "execution_count": null,
   "id": "d6b3856c",
   "metadata": {},
   "outputs": [],
   "source": [
    "# # 8. Insert NFT_ACCESS\n",
    "# pg_cursor.execute(\"\"\"\n",
    "#     INSERT INTO \"nft_access\" (\"user_id\",\"nft_id\", \"access_level\", \"timestamp\")\n",
    "#     VALUES (%s, %s, %s, %s)\n",
    "#     ON CONFLICT DO NOTHING\n",
    "# \"\"\", (\n",
    "#     portfolio_data[\"owner\"],\n",
    "#     portfolio_data[\"nft_id\"],\n",
    "#     access_level,\n",
    "#     datetime.now()\n",
    "# ))"
   ]
  },
  {
   "cell_type": "code",
   "execution_count": null,
   "id": "c8075951",
   "metadata": {},
   "outputs": [],
   "source": [
    "# # 9. Insert METADATA\n",
    "# metadata_json = json.dumps({\n",
    "#     \"documentation\": f\"# {portfolio_data['name']}\\n\\n{portfolio_data['description']}\"\n",
    "# })\n",
    "\n",
    "# pg_cursor.execute(\"\"\"\n",
    "#     INSERT INTO \"metadata\" (\"agent_id\", \"markdown_object\")\n",
    "#     VALUES (%s, %s)\n",
    "#     ON CONFLICT (\"agent_id\") DO UPDATE SET\n",
    "#         \"markdown_object\" = EXCLUDED.\"markdown_object\"\n",
    "# \"\"\", (\n",
    "#     agent_id,\n",
    "#     metadata_json\n",
    "# ))"
   ]
  },
  {
   "cell_type": "code",
   "execution_count": 13,
   "id": "b123482d",
   "metadata": {},
   "outputs": [],
   "source": [
    "# Final commit\n",
    "pg_conn.commit()\n",
    "# print(f\"✅ Successfully inserted Portfolio Manager with agent_id: {agent_id}\")\n"
   ]
  },
  {
   "cell_type": "code",
   "execution_count": null,
   "id": "55948382",
   "metadata": {},
   "outputs": [],
   "source": []
  }
 ],
 "metadata": {
  "kernelspec": {
   "display_name": "base",
   "language": "python",
   "name": "python3"
  },
  "language_info": {
   "codemirror_mode": {
    "name": "ipython",
    "version": 3
   },
   "file_extension": ".py",
   "mimetype": "text/x-python",
   "name": "python",
   "nbconvert_exporter": "python",
   "pygments_lexer": "ipython3",
   "version": "3.12.2"
  }
 },
 "nbformat": 4,
 "nbformat_minor": 5
}
