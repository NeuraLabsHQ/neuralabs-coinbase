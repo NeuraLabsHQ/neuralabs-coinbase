{
 "cells": [
  {
   "cell_type": "code",
   "execution_count": 2,
   "id": "190d72fe",
   "metadata": {},
   "outputs": [],
   "source": [
    "import yaml\n",
    "import os\n",
    "import psycopg2\n",
    "import redis\n",
    "from dotenv import load_dotenv\n",
    "import json\n",
    "import hashlib\n",
    "from datetime import datetime"
   ]
  },
  {
   "cell_type": "code",
   "execution_count": 3,
   "id": "a56bde80",
   "metadata": {},
   "outputs": [
    {
     "data": {
      "text/plain": [
       "True"
      ]
     },
     "execution_count": 3,
     "metadata": {},
     "output_type": "execute_result"
    }
   ],
   "source": [
    "load_dotenv()"
   ]
  },
  {
   "cell_type": "code",
   "execution_count": 4,
   "id": "3517684a",
   "metadata": {},
   "outputs": [],
   "source": [
    "pg_user = os.getenv('POSTGRES_USER')\n",
    "pg_password = os.getenv('POSTGRES_PASSWORD')\n",
    "pg_db = os.getenv('POSTGRES_DB')\n",
    "pg_host = os.getenv('POSTGRES_HOST', 'localhost')\n",
    "pg_port = os.getenv('POSTGRES_PORT', '5432')\n",
    "\n",
    "redis_host = os.getenv('REDIS_HOST', 'localhost')\n",
    "redis_port = os.getenv('REDIS_PORT', '6379')\n",
    "redis_password = os.getenv('REDIS_PASSWORD')"
   ]
  },
  {
   "cell_type": "code",
   "execution_count": 7,
   "id": "31ec1d46",
   "metadata": {},
   "outputs": [],
   "source": [
    "# Load database schema from YAML file\n",
    "with open('../database_schema.yaml', 'r') as file:\n",
    "    schema = yaml.safe_load(file)"
   ]
  },
  {
   "cell_type": "code",
   "execution_count": 8,
   "id": "fe7f4b4f",
   "metadata": {},
   "outputs": [],
   "source": [
    "pg_conn = psycopg2.connect(\n",
    "    host=pg_host,\n",
    "    database=pg_db,\n",
    "    user=pg_user,\n",
    "    password=pg_password,\n",
    "    port=pg_port\n",
    ")"
   ]
  },
  {
   "cell_type": "code",
   "execution_count": 9,
   "id": "cdafb212",
   "metadata": {},
   "outputs": [
    {
     "name": "stdout",
     "output_type": "stream",
     "text": [
      "Successfully connected to PostgreSQL.\n"
     ]
    }
   ],
   "source": [
    "pg_cursor = pg_conn.cursor()\n",
    "print(\"Successfully connected to PostgreSQL.\")"
   ]
  },
  {
   "cell_type": "code",
   "execution_count": 11,
   "id": "f3474dfb",
   "metadata": {},
   "outputs": [
    {
     "name": "stdout",
     "output_type": "stream",
     "text": [
      "Successfully connected to Redis.\n"
     ]
    }
   ],
   "source": [
    "redis_conn = redis.Redis(\n",
    "    host=redis_host,\n",
    "    port=int(redis_port),\n",
    "    password=redis_password,\n",
    "    decode_responses=True\n",
    ")\n",
    "\n",
    "redis_conn.ping()  # Check if connection is active\n",
    "print(\"Successfully connected to Redis.\")"
   ]
  },
  {
   "cell_type": "code",
   "execution_count": 32,
   "id": "6e136621",
   "metadata": {},
   "outputs": [],
   "source": [
    "def generate_create_table_sql(table_name, table_def):\n",
    "    columns = table_def.get('columns', {})\n",
    "    \n",
    "    # Generate column definitions\n",
    "    column_defs = []\n",
    "    primary_keys = []\n",
    "    \n",
    "    for col_name, col_def in columns.items():\n",
    "        # Basic column definition\n",
    "        col_sql = f\"\\\"{col_name}\\\" {col_def['type']}\"\n",
    "        \n",
    "        # Add constraints\n",
    "        if col_def.get('primary_key', False) is True:\n",
    "            primary_keys.append(col_name)\n",
    "            # Add PRIMARY KEY constraint to the column if it's a single-column primary key\n",
    "            if len(primary_keys) == 1:  # This is the first PK column we've seen\n",
    "                col_sql += \" PRIMARY KEY\"\n",
    "        \n",
    "        if col_def.get('nullable', True) is False:\n",
    "            col_sql += \" NOT NULL\"\n",
    "            \n",
    "        if 'default' in col_def:\n",
    "            col_sql += f\" DEFAULT {col_def['default']}\"\n",
    "            \n",
    "        if 'check' in col_def:\n",
    "            col_sql += f\" CHECK ({col_name} {col_def['check']})\"\n",
    "            \n",
    "        if 'references' in col_def:\n",
    "            ref_table, ref_col = col_def['references'].split('.')\n",
    "            col_sql += f\" REFERENCES \\\"{ref_table}\\\"(\\\"{ref_col}\\\")\"\n",
    "            \n",
    "        column_defs.append(col_sql)\n",
    "    \n",
    "    # For composite primary keys (more than one column), add a separate PRIMARY KEY constraint\n",
    "    if len(primary_keys) > 1:\n",
    "        pk_cols = ', '.join(f'\"{pk}\"' for pk in primary_keys)\n",
    "        column_defs.append(f\"PRIMARY KEY ({pk_cols})\")\n",
    "    elif 'primary_key' in table_def:\n",
    "        # Handle explicit composite primary key definition from table def\n",
    "        if isinstance(table_def['primary_key'], list):\n",
    "            pk_cols = ', '.join(f'\"{pk}\"' for pk in table_def['primary_key'])\n",
    "            column_defs.append(f\"PRIMARY KEY ({pk_cols})\")\n",
    "    \n",
    "    # Construct full SQL\n",
    "    create_sql = f\"CREATE TABLE IF NOT EXISTS \\\"{table_name}\\\" (\\n\"\n",
    "    create_sql += \",\\n\".join(column_defs)\n",
    "    create_sql += \"\\n);\"\n",
    "    \n",
    "    return create_sql"
   ]
  },
  {
   "cell_type": "code",
   "execution_count": 33,
   "id": "961ec371",
   "metadata": {},
   "outputs": [],
   "source": [
    "def initialize_postgres():\n",
    "    # Get PostgreSQL table definitions from schema\n",
    "    postgres_tables = schema.get('postgres', {}).get('tables', {})\n",
    "    \n",
    "    # Define the exact order for table creation based on dependencies\n",
    "    table_creation_order = [\n",
    "        \"CHAIN_DETAILS\",\n",
    "        \"USER_AUTH\",\n",
    "        \"AGENT\",\n",
    "        \"UNPUBLISHED_AGENT\",\n",
    "        \"PUBLISHED_AGENT\",\n",
    "        \"METADATA\",\n",
    "        \"CONTRACT_DETAILS\",\n",
    "        \"BLOCKCHAIN_AGENT_DATA\",\n",
    "        \"ACCESS_LEVEL_TABLE\",\n",
    "        \"NFT_ACCESS\",\n",
    "        \"USERS\",\n",
    "        \"CONVERSATIONS\",\n",
    "        \"MESSAGES\"\n",
    "    ]\n",
    "    \n",
    "    # Create extension for UUID support\n",
    "    pg_cursor.execute(\"CREATE EXTENSION IF NOT EXISTS pgcrypto;\")\n",
    "    \n",
    "    # Create tables in the specified order\n",
    "    for table_name in table_creation_order:\n",
    "        if table_name not in postgres_tables:\n",
    "            print(f\"Warning: Table {table_name} specified in creation order but not found in schema\")\n",
    "            continue\n",
    "            \n",
    "        table_def = postgres_tables[table_name]\n",
    "        create_table_sql = generate_create_table_sql(table_name, table_def)\n",
    "        print(f\"Creating table {table_name}...\")\n",
    "        \n",
    "        try:\n",
    "            pg_cursor.execute(create_table_sql)\n",
    "        except Exception as e:\n",
    "            print(f\"Error creating table {table_name}: {e}\")\n",
    "            print(f\"SQL that failed: {create_table_sql}\")\n",
    "            pg_conn.rollback()\n",
    "            raise\n",
    "    \n",
    "    # Commit all changes\n",
    "    pg_conn.commit()\n",
    "    print(f\"Successfully created all PostgreSQL tables.\")"
   ]
  },
  {
   "cell_type": "code",
   "execution_count": 34,
   "id": "196fcab2",
   "metadata": {},
   "outputs": [],
   "source": [
    "def initialize_redis():\n",
    "    # Get Redis key definitions from schema\n",
    "    redis_keys = schema.get('redis', {}).get('keys', {})\n",
    "    \n",
    "    # Create sample template for each Redis key type\n",
    "    for key_name, key_def in redis_keys.items():\n",
    "        key_pattern = key_def.get('key_pattern', '')\n",
    "        key_type = key_def.get('type', 'hash')\n",
    "        ttl = key_def.get('ttl', 0)\n",
    "        fields = key_def.get('fields', [])\n",
    "        \n",
    "        # Create documentation keys with examples to help developers\n",
    "        doc_key = f\"schema:{key_name}:doc\"\n",
    "        \n",
    "        # Create documentation with field examples\n",
    "        doc_data = {\n",
    "            'key_pattern': key_pattern,\n",
    "            'type': key_type,\n",
    "            'ttl': ttl,\n",
    "            'fields': [{'name': field.get('name'), 'description': field.get('description')} for field in fields],\n",
    "            'example': key_pattern.format(user_id='user123', agent_id='agent456')\n",
    "        }\n",
    "        \n",
    "        redis_conn.set(doc_key, json.dumps(doc_data))\n",
    "        print(f\"Created Redis schema documentation for {key_name}\")\n",
    "    \n",
    "    # Create metadata about synchronization system\n",
    "    sync_config = schema.get('synchronization', {})\n",
    "    redis_conn.set('schema:sync:config', json.dumps(sync_config))\n",
    "    print(\"Created Redis synchronization configuration\")"
   ]
  },
  {
   "cell_type": "code",
   "execution_count": 35,
   "id": "ff973c0c",
   "metadata": {},
   "outputs": [
    {
     "name": "stdout",
     "output_type": "stream",
     "text": [
      "Creating table CHAIN_DETAILS...\n",
      "Creating table USER_AUTH...\n",
      "Creating table AGENT...\n",
      "Creating table UNPUBLISHED_AGENT...\n",
      "Creating table PUBLISHED_AGENT...\n",
      "Creating table METADATA...\n",
      "Creating table CONTRACT_DETAILS...\n",
      "Creating table BLOCKCHAIN_AGENT_DATA...\n",
      "Creating table ACCESS_LEVEL_TABLE...\n",
      "Creating table NFT_ACCESS...\n",
      "Creating table USERS...\n",
      "Creating table CONVERSATIONS...\n",
      "Creating table MESSAGES...\n",
      "Successfully created all PostgreSQL tables.\n"
     ]
    }
   ],
   "source": [
    "initialize_postgres()\n"
   ]
  },
  {
   "cell_type": "code",
   "execution_count": 36,
   "id": "55737810",
   "metadata": {},
   "outputs": [
    {
     "name": "stdout",
     "output_type": "stream",
     "text": [
      "Created Redis schema documentation for USER_SESSION\n",
      "Created Redis schema documentation for WORKFLOW_LIVE_EDITOR\n",
      "Created Redis synchronization configuration\n"
     ]
    }
   ],
   "source": [
    "initialize_redis()"
   ]
  },
  {
   "cell_type": "code",
   "execution_count": null,
   "id": "d00bcc93",
   "metadata": {},
   "outputs": [],
   "source": []
  }
 ],
 "metadata": {
  "kernelspec": {
   "display_name": "base",
   "language": "python",
   "name": "python3"
  },
  "language_info": {
   "codemirror_mode": {
    "name": "ipython",
    "version": 3
   },
   "file_extension": ".py",
   "mimetype": "text/x-python",
   "name": "python",
   "nbconvert_exporter": "python",
   "pygments_lexer": "ipython3",
   "version": "3.12.2"
  }
 },
 "nbformat": 4,
 "nbformat_minor": 5
}
