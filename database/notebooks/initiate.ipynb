{
 "cells": [
  {
   "cell_type": "code",
   "execution_count": 2,
   "id": "190d72fe",
   "metadata": {},
   "outputs": [],
   "source": [
    "import yaml\n",
    "import os\n",
    "import psycopg2\n",
    "import redis\n",
    "from dotenv import load_dotenv\n",
    "import json\n",
    "import hashlib\n",
    "from datetime import datetime"
   ]
  },
  {
   "cell_type": "code",
   "execution_count": 3,
   "id": "a56bde80",
   "metadata": {},
   "outputs": [
    {
     "data": {
      "text/plain": [
       "True"
      ]
     },
     "execution_count": 3,
     "metadata": {},
     "output_type": "execute_result"
    }
   ],
   "source": [
    "load_dotenv()"
   ]
  },
  {
   "cell_type": "code",
   "execution_count": 4,
   "id": "3517684a",
   "metadata": {},
   "outputs": [],
   "source": [
    "pg_user = os.getenv('POSTGRES_USER')\n",
    "pg_password = os.getenv('POSTGRES_PASSWORD')\n",
    "pg_db = os.getenv('POSTGRES_DB')\n",
    "pg_host = os.getenv('POSTGRES_HOST', 'localhost')\n",
    "pg_port = os.getenv('POSTGRES_PORT', '5432')\n",
    "\n",
    "redis_host = os.getenv('REDIS_HOST', 'localhost')\n",
    "redis_port = os.getenv('REDIS_PORT', '6379')\n",
    "redis_password = os.getenv('REDIS_PASSWORD')"
   ]
  },
  {
   "cell_type": "code",
   "execution_count": 5,
   "id": "31ec1d46",
   "metadata": {},
   "outputs": [],
   "source": [
    "# Load database schema from YAML file\n",
    "with open('../database_schema.yaml', 'r') as file:\n",
    "    schema = yaml.safe_load(file)"
   ]
  },
  {
   "cell_type": "code",
   "execution_count": 6,
   "id": "fe7f4b4f",
   "metadata": {},
   "outputs": [],
   "source": [
    "pg_conn = psycopg2.connect(\n",
    "    host=pg_host,\n",
    "    database=pg_db,\n",
    "    user=pg_user,\n",
    "    password=pg_password,\n",
    "    port=pg_port\n",
    ")"
   ]
  },
  {
   "cell_type": "code",
   "execution_count": 7,
   "id": "cdafb212",
   "metadata": {},
   "outputs": [
    {
     "name": "stdout",
     "output_type": "stream",
     "text": [
      "Successfully connected to PostgreSQL.\n"
     ]
    }
   ],
   "source": [
    "pg_cursor = pg_conn.cursor()\n",
    "print(\"Successfully connected to PostgreSQL.\")"
   ]
  },
  {
   "cell_type": "code",
   "execution_count": 8,
   "id": "f3474dfb",
   "metadata": {},
   "outputs": [
    {
     "ename": "AuthenticationError",
     "evalue": "AUTH <password> called without any password configured for the default user. Are you sure your configuration is correct?",
     "output_type": "error",
     "traceback": [
      "\u001b[31m---------------------------------------------------------------------------\u001b[39m",
      "\u001b[31mAuthenticationError\u001b[39m                       Traceback (most recent call last)",
      "\u001b[36mCell\u001b[39m\u001b[36m \u001b[39m\u001b[32mIn[8]\u001b[39m\u001b[32m, line 8\u001b[39m\n\u001b[32m      1\u001b[39m redis_conn = redis.Redis(\n\u001b[32m      2\u001b[39m     host=redis_host,\n\u001b[32m      3\u001b[39m     port=\u001b[38;5;28mint\u001b[39m(redis_port),\n\u001b[32m      4\u001b[39m     password=redis_password,\n\u001b[32m      5\u001b[39m     decode_responses=\u001b[38;5;28;01mTrue\u001b[39;00m\n\u001b[32m      6\u001b[39m )\n\u001b[32m----> \u001b[39m\u001b[32m8\u001b[39m \u001b[43mredis_conn\u001b[49m\u001b[43m.\u001b[49m\u001b[43mping\u001b[49m\u001b[43m(\u001b[49m\u001b[43m)\u001b[49m  \u001b[38;5;66;03m# Check if connection is active\u001b[39;00m\n\u001b[32m      9\u001b[39m \u001b[38;5;28mprint\u001b[39m(\u001b[33m\"\u001b[39m\u001b[33mSuccessfully connected to Redis.\u001b[39m\u001b[33m\"\u001b[39m)\n",
      "\u001b[36mFile \u001b[39m\u001b[32m~/anaconda3/envs/neuralabs-exec/lib/python3.12/site-packages/redis/commands/core.py:1219\u001b[39m, in \u001b[36mManagementCommands.ping\u001b[39m\u001b[34m(self, **kwargs)\u001b[39m\n\u001b[32m   1213\u001b[39m \u001b[38;5;28;01mdef\u001b[39;00m\u001b[38;5;250m \u001b[39m\u001b[34mping\u001b[39m(\u001b[38;5;28mself\u001b[39m, **kwargs) -> ResponseT:\n\u001b[32m   1214\u001b[39m \u001b[38;5;250m    \u001b[39m\u001b[33;03m\"\"\"\u001b[39;00m\n\u001b[32m   1215\u001b[39m \u001b[33;03m    Ping the Redis server\u001b[39;00m\n\u001b[32m   1216\u001b[39m \n\u001b[32m   1217\u001b[39m \u001b[33;03m    For more information see https://redis.io/commands/ping\u001b[39;00m\n\u001b[32m   1218\u001b[39m \u001b[33;03m    \"\"\"\u001b[39;00m\n\u001b[32m-> \u001b[39m\u001b[32m1219\u001b[39m     \u001b[38;5;28;01mreturn\u001b[39;00m \u001b[38;5;28;43mself\u001b[39;49m\u001b[43m.\u001b[49m\u001b[43mexecute_command\u001b[49m\u001b[43m(\u001b[49m\u001b[33;43m\"\u001b[39;49m\u001b[33;43mPING\u001b[39;49m\u001b[33;43m\"\u001b[39;49m\u001b[43m,\u001b[49m\u001b[43m \u001b[49m\u001b[43m*\u001b[49m\u001b[43m*\u001b[49m\u001b[43mkwargs\u001b[49m\u001b[43m)\u001b[49m\n",
      "\u001b[36mFile \u001b[39m\u001b[32m~/anaconda3/envs/neuralabs-exec/lib/python3.12/site-packages/redis/client.py:623\u001b[39m, in \u001b[36mRedis.execute_command\u001b[39m\u001b[34m(self, *args, **options)\u001b[39m\n\u001b[32m    622\u001b[39m \u001b[38;5;28;01mdef\u001b[39;00m\u001b[38;5;250m \u001b[39m\u001b[34mexecute_command\u001b[39m(\u001b[38;5;28mself\u001b[39m, *args, **options):\n\u001b[32m--> \u001b[39m\u001b[32m623\u001b[39m     \u001b[38;5;28;01mreturn\u001b[39;00m \u001b[38;5;28;43mself\u001b[39;49m\u001b[43m.\u001b[49m\u001b[43m_execute_command\u001b[49m\u001b[43m(\u001b[49m\u001b[43m*\u001b[49m\u001b[43margs\u001b[49m\u001b[43m,\u001b[49m\u001b[43m \u001b[49m\u001b[43m*\u001b[49m\u001b[43m*\u001b[49m\u001b[43moptions\u001b[49m\u001b[43m)\u001b[49m\n",
      "\u001b[36mFile \u001b[39m\u001b[32m~/anaconda3/envs/neuralabs-exec/lib/python3.12/site-packages/redis/client.py:629\u001b[39m, in \u001b[36mRedis._execute_command\u001b[39m\u001b[34m(self, *args, **options)\u001b[39m\n\u001b[32m    627\u001b[39m pool = \u001b[38;5;28mself\u001b[39m.connection_pool\n\u001b[32m    628\u001b[39m command_name = args[\u001b[32m0\u001b[39m]\n\u001b[32m--> \u001b[39m\u001b[32m629\u001b[39m conn = \u001b[38;5;28mself\u001b[39m.connection \u001b[38;5;129;01mor\u001b[39;00m \u001b[43mpool\u001b[49m\u001b[43m.\u001b[49m\u001b[43mget_connection\u001b[49m\u001b[43m(\u001b[49m\u001b[43m)\u001b[49m\n\u001b[32m    631\u001b[39m \u001b[38;5;28;01mif\u001b[39;00m \u001b[38;5;28mself\u001b[39m._single_connection_client:\n\u001b[32m    632\u001b[39m     \u001b[38;5;28mself\u001b[39m.single_connection_lock.acquire()\n",
      "\u001b[36mFile \u001b[39m\u001b[32m~/anaconda3/envs/neuralabs-exec/lib/python3.12/site-packages/redis/utils.py:191\u001b[39m, in \u001b[36mdeprecated_args.<locals>.decorator.<locals>.wrapper\u001b[39m\u001b[34m(*args, **kwargs)\u001b[39m\n\u001b[32m    186\u001b[39m     \u001b[38;5;28;01melif\u001b[39;00m arg \u001b[38;5;129;01min\u001b[39;00m provided_args:\n\u001b[32m    187\u001b[39m         warn_deprecated_arg_usage(\n\u001b[32m    188\u001b[39m             arg, func.\u001b[34m__name__\u001b[39m, reason, version, stacklevel=\u001b[32m3\u001b[39m\n\u001b[32m    189\u001b[39m         )\n\u001b[32m--> \u001b[39m\u001b[32m191\u001b[39m \u001b[38;5;28;01mreturn\u001b[39;00m \u001b[43mfunc\u001b[49m\u001b[43m(\u001b[49m\u001b[43m*\u001b[49m\u001b[43margs\u001b[49m\u001b[43m,\u001b[49m\u001b[43m \u001b[49m\u001b[43m*\u001b[49m\u001b[43m*\u001b[49m\u001b[43mkwargs\u001b[49m\u001b[43m)\u001b[49m\n",
      "\u001b[36mFile \u001b[39m\u001b[32m~/anaconda3/envs/neuralabs-exec/lib/python3.12/site-packages/redis/connection.py:1530\u001b[39m, in \u001b[36mConnectionPool.get_connection\u001b[39m\u001b[34m(self, command_name, *keys, **options)\u001b[39m\n\u001b[32m   1526\u001b[39m     \u001b[38;5;28mself\u001b[39m._in_use_connections.add(connection)\n\u001b[32m   1528\u001b[39m \u001b[38;5;28;01mtry\u001b[39;00m:\n\u001b[32m   1529\u001b[39m     \u001b[38;5;66;03m# ensure this connection is connected to Redis\u001b[39;00m\n\u001b[32m-> \u001b[39m\u001b[32m1530\u001b[39m     \u001b[43mconnection\u001b[49m\u001b[43m.\u001b[49m\u001b[43mconnect\u001b[49m\u001b[43m(\u001b[49m\u001b[43m)\u001b[49m\n\u001b[32m   1531\u001b[39m     \u001b[38;5;66;03m# connections that the pool provides should be ready to send\u001b[39;00m\n\u001b[32m   1532\u001b[39m     \u001b[38;5;66;03m# a command. if not, the connection was either returned to the\u001b[39;00m\n\u001b[32m   1533\u001b[39m     \u001b[38;5;66;03m# pool before all data has been read or the socket has been\u001b[39;00m\n\u001b[32m   1534\u001b[39m     \u001b[38;5;66;03m# closed. either way, reconnect and verify everything is good.\u001b[39;00m\n\u001b[32m   1535\u001b[39m     \u001b[38;5;28;01mtry\u001b[39;00m:\n",
      "\u001b[36mFile \u001b[39m\u001b[32m~/anaconda3/envs/neuralabs-exec/lib/python3.12/site-packages/redis/connection.py:379\u001b[39m, in \u001b[36mAbstractConnection.connect\u001b[39m\u001b[34m(self)\u001b[39m\n\u001b[32m    377\u001b[39m \u001b[38;5;28;01mdef\u001b[39;00m\u001b[38;5;250m \u001b[39m\u001b[34mconnect\u001b[39m(\u001b[38;5;28mself\u001b[39m):\n\u001b[32m    378\u001b[39m     \u001b[33m\"\u001b[39m\u001b[33mConnects to the Redis server if not already connected\u001b[39m\u001b[33m\"\u001b[39m\n\u001b[32m--> \u001b[39m\u001b[32m379\u001b[39m     \u001b[38;5;28;43mself\u001b[39;49m\u001b[43m.\u001b[49m\u001b[43mconnect_check_health\u001b[49m\u001b[43m(\u001b[49m\u001b[43mcheck_health\u001b[49m\u001b[43m=\u001b[49m\u001b[38;5;28;43;01mTrue\u001b[39;49;00m\u001b[43m)\u001b[49m\n",
      "\u001b[36mFile \u001b[39m\u001b[32m~/anaconda3/envs/neuralabs-exec/lib/python3.12/site-packages/redis/connection.py:397\u001b[39m, in \u001b[36mAbstractConnection.connect_check_health\u001b[39m\u001b[34m(self, check_health)\u001b[39m\n\u001b[32m    394\u001b[39m \u001b[38;5;28;01mtry\u001b[39;00m:\n\u001b[32m    395\u001b[39m     \u001b[38;5;28;01mif\u001b[39;00m \u001b[38;5;28mself\u001b[39m.redis_connect_func \u001b[38;5;129;01mis\u001b[39;00m \u001b[38;5;28;01mNone\u001b[39;00m:\n\u001b[32m    396\u001b[39m         \u001b[38;5;66;03m# Use the default on_connect function\u001b[39;00m\n\u001b[32m--> \u001b[39m\u001b[32m397\u001b[39m         \u001b[38;5;28;43mself\u001b[39;49m\u001b[43m.\u001b[49m\u001b[43mon_connect_check_health\u001b[49m\u001b[43m(\u001b[49m\u001b[43mcheck_health\u001b[49m\u001b[43m=\u001b[49m\u001b[43mcheck_health\u001b[49m\u001b[43m)\u001b[49m\n\u001b[32m    398\u001b[39m     \u001b[38;5;28;01melse\u001b[39;00m:\n\u001b[32m    399\u001b[39m         \u001b[38;5;66;03m# Use the passed function redis_connect_func\u001b[39;00m\n\u001b[32m    400\u001b[39m         \u001b[38;5;28mself\u001b[39m.redis_connect_func(\u001b[38;5;28mself\u001b[39m)\n",
      "\u001b[36mFile \u001b[39m\u001b[32m~/anaconda3/envs/neuralabs-exec/lib/python3.12/site-packages/redis/connection.py:469\u001b[39m, in \u001b[36mAbstractConnection.on_connect_check_health\u001b[39m\u001b[34m(self, check_health)\u001b[39m\n\u001b[32m    466\u001b[39m \u001b[38;5;28mself\u001b[39m.send_command(\u001b[33m\"\u001b[39m\u001b[33mAUTH\u001b[39m\u001b[33m\"\u001b[39m, *auth_args, check_health=\u001b[38;5;28;01mFalse\u001b[39;00m)\n\u001b[32m    468\u001b[39m \u001b[38;5;28;01mtry\u001b[39;00m:\n\u001b[32m--> \u001b[39m\u001b[32m469\u001b[39m     auth_response = \u001b[38;5;28;43mself\u001b[39;49m\u001b[43m.\u001b[49m\u001b[43mread_response\u001b[49m\u001b[43m(\u001b[49m\u001b[43m)\u001b[49m\n\u001b[32m    470\u001b[39m \u001b[38;5;28;01mexcept\u001b[39;00m AuthenticationWrongNumberOfArgsError:\n\u001b[32m    471\u001b[39m     \u001b[38;5;66;03m# a username and password were specified but the Redis\u001b[39;00m\n\u001b[32m    472\u001b[39m     \u001b[38;5;66;03m# server seems to be < 6.0.0 which expects a single password\u001b[39;00m\n\u001b[32m    473\u001b[39m     \u001b[38;5;66;03m# arg. retry auth with just the password.\u001b[39;00m\n\u001b[32m    474\u001b[39m     \u001b[38;5;66;03m# https://github.com/andymccurdy/redis-py/issues/1274\u001b[39;00m\n\u001b[32m    475\u001b[39m     \u001b[38;5;28mself\u001b[39m.send_command(\u001b[33m\"\u001b[39m\u001b[33mAUTH\u001b[39m\u001b[33m\"\u001b[39m, auth_args[-\u001b[32m1\u001b[39m], check_health=\u001b[38;5;28;01mFalse\u001b[39;00m)\n",
      "\u001b[36mFile \u001b[39m\u001b[32m~/anaconda3/envs/neuralabs-exec/lib/python3.12/site-packages/redis/connection.py:644\u001b[39m, in \u001b[36mAbstractConnection.read_response\u001b[39m\u001b[34m(self, disable_decoding, disconnect_on_error, push_request)\u001b[39m\n\u001b[32m    640\u001b[39m         response = \u001b[38;5;28mself\u001b[39m._parser.read_response(\n\u001b[32m    641\u001b[39m             disable_decoding=disable_decoding, push_request=push_request\n\u001b[32m    642\u001b[39m         )\n\u001b[32m    643\u001b[39m     \u001b[38;5;28;01melse\u001b[39;00m:\n\u001b[32m--> \u001b[39m\u001b[32m644\u001b[39m         response = \u001b[38;5;28;43mself\u001b[39;49m\u001b[43m.\u001b[49m\u001b[43m_parser\u001b[49m\u001b[43m.\u001b[49m\u001b[43mread_response\u001b[49m\u001b[43m(\u001b[49m\u001b[43mdisable_decoding\u001b[49m\u001b[43m=\u001b[49m\u001b[43mdisable_decoding\u001b[49m\u001b[43m)\u001b[49m\n\u001b[32m    645\u001b[39m \u001b[38;5;28;01mexcept\u001b[39;00m socket.timeout:\n\u001b[32m    646\u001b[39m     \u001b[38;5;28;01mif\u001b[39;00m disconnect_on_error:\n",
      "\u001b[36mFile \u001b[39m\u001b[32m~/anaconda3/envs/neuralabs-exec/lib/python3.12/site-packages/redis/_parsers/resp2.py:15\u001b[39m, in \u001b[36m_RESP2Parser.read_response\u001b[39m\u001b[34m(self, disable_decoding)\u001b[39m\n\u001b[32m     13\u001b[39m pos = \u001b[38;5;28mself\u001b[39m._buffer.get_pos() \u001b[38;5;28;01mif\u001b[39;00m \u001b[38;5;28mself\u001b[39m._buffer \u001b[38;5;28;01melse\u001b[39;00m \u001b[38;5;28;01mNone\u001b[39;00m\n\u001b[32m     14\u001b[39m \u001b[38;5;28;01mtry\u001b[39;00m:\n\u001b[32m---> \u001b[39m\u001b[32m15\u001b[39m     result = \u001b[38;5;28;43mself\u001b[39;49m\u001b[43m.\u001b[49m\u001b[43m_read_response\u001b[49m\u001b[43m(\u001b[49m\u001b[43mdisable_decoding\u001b[49m\u001b[43m=\u001b[49m\u001b[43mdisable_decoding\u001b[49m\u001b[43m)\u001b[49m\n\u001b[32m     16\u001b[39m \u001b[38;5;28;01mexcept\u001b[39;00m \u001b[38;5;167;01mBaseException\u001b[39;00m:\n\u001b[32m     17\u001b[39m     \u001b[38;5;28;01mif\u001b[39;00m \u001b[38;5;28mself\u001b[39m._buffer:\n",
      "\u001b[36mFile \u001b[39m\u001b[32m~/anaconda3/envs/neuralabs-exec/lib/python3.12/site-packages/redis/_parsers/resp2.py:38\u001b[39m, in \u001b[36m_RESP2Parser._read_response\u001b[39m\u001b[34m(self, disable_decoding)\u001b[39m\n\u001b[32m     35\u001b[39m \u001b[38;5;66;03m# if the error is a ConnectionError, raise immediately so the user\u001b[39;00m\n\u001b[32m     36\u001b[39m \u001b[38;5;66;03m# is notified\u001b[39;00m\n\u001b[32m     37\u001b[39m \u001b[38;5;28;01mif\u001b[39;00m \u001b[38;5;28misinstance\u001b[39m(error, \u001b[38;5;167;01mConnectionError\u001b[39;00m):\n\u001b[32m---> \u001b[39m\u001b[32m38\u001b[39m     \u001b[38;5;28;01mraise\u001b[39;00m error\n\u001b[32m     39\u001b[39m \u001b[38;5;66;03m# otherwise, we're dealing with a ResponseError that might belong\u001b[39;00m\n\u001b[32m     40\u001b[39m \u001b[38;5;66;03m# inside a pipeline response. the connection's read_response()\u001b[39;00m\n\u001b[32m     41\u001b[39m \u001b[38;5;66;03m# and/or the pipeline's execute() will raise this error if\u001b[39;00m\n\u001b[32m     42\u001b[39m \u001b[38;5;66;03m# necessary, so just return the exception instance here.\u001b[39;00m\n\u001b[32m     43\u001b[39m \u001b[38;5;28;01mreturn\u001b[39;00m error\n",
      "\u001b[31mAuthenticationError\u001b[39m: AUTH <password> called without any password configured for the default user. Are you sure your configuration is correct?"
     ]
    }
   ],
   "source": [
    "redis_conn = redis.Redis(\n",
    "    host=redis_host,\n",
    "    port=int(redis_port),\n",
    "    password=redis_password,\n",
    "    decode_responses=True\n",
    ")\n",
    "\n",
    "redis_conn.ping()  # Check if connection is active\n",
    "print(\"Successfully connected to Redis.\")"
   ]
  },
  {
   "cell_type": "code",
   "execution_count": 9,
   "id": "961ec371",
   "metadata": {},
   "outputs": [],
   "source": [
    "def initialize_postgres():\n",
    "    \"\"\"Create all tables with USER_AUTH as the combined user table\"\"\"\n",
    "    \n",
    "    \n",
    "    # Creat salt_email table\n",
    "    print(\"Creating salt_email table...\")\n",
    "    pg_cursor.execute(\"\"\"\n",
    "    CREATE TABLE IF NOT EXISTS salt_email (\n",
    "        email VARCHAR(255) PRIMARY KEY,\n",
    "        salt VARCHAR(255) NOT NULL,\n",
    "        created_at TIMESTAMP DEFAULT CURRENT_TIMESTAMP\n",
    "    );\n",
    "    \"\"\")\n",
    "    \n",
    "    # Create extension for UUID generation\n",
    "    print(\"Creating pgcrypto extension...\")\n",
    "    pg_cursor.execute(\"CREATE EXTENSION IF NOT EXISTS pgcrypto;\")\n",
    "    \n",
    "    # Create CHAIN_DETAILS table\n",
    "    print(\"Creating CHAIN_DETAILS table...\")\n",
    "    pg_cursor.execute(\"\"\"\n",
    "    CREATE TABLE IF NOT EXISTS CHAIN_DETAILS (\n",
    "        chain_id VARCHAR(255) PRIMARY KEY,\n",
    "        chain VARCHAR(100) NOT NULL,\n",
    "        chain_status VARCHAR(50) NOT NULL,\n",
    "        chain_explorer VARCHAR(255)\n",
    "    );\n",
    "    \"\"\")\n",
    "    \n",
    "    # Create USER_AUTH table (combined with USERS)\n",
    "    print(\"Creating USER_AUTH table (combined with USERS)...\")\n",
    "    pg_cursor.execute(\"\"\"\n",
    "    CREATE TABLE IF NOT EXISTS USER_AUTH (\n",
    "        user_pub_key VARCHAR(255) PRIMARY KEY,\n",
    "        username VARCHAR(100),\n",
    "        email VARCHAR(255),\n",
    "        chain_id VARCHAR REFERENCES CHAIN_DETAILS(chain_id),\n",
    "        created_at TIMESTAMP DEFAULT CURRENT_TIMESTAMP\n",
    "    );\n",
    "    \"\"\")\n",
    "    \n",
    "    # Create AGENT table\n",
    "    print(\"Creating AGENT table...\")\n",
    "    pg_cursor.execute(\"\"\"\n",
    "    CREATE TABLE IF NOT EXISTS AGENT (\n",
    "        agent_id VARCHAR(255) PRIMARY KEY,\n",
    "        creation_date TIMESTAMP DEFAULT CURRENT_TIMESTAMP,\n",
    "        owner VARCHAR(255) REFERENCES USER_AUTH(user_pub_key),\n",
    "        status VARCHAR(20) CHECK (status IN ('Active', 'Not Published')),\n",
    "        tags JSONB,\n",
    "        license VARCHAR(255),\n",
    "        fork VARCHAR(255),\n",
    "        socials JSONB,\n",
    "        description TEXT,\n",
    "        name VARCHAR(255) NOT NULL,\n",
    "        chain_id VARCHAR REFERENCES CHAIN_DETAILS(chain_id)\n",
    "    );\n",
    "    \"\"\")\n",
    "    \n",
    "    # Create UNPUBLISHED_AGENT table\n",
    "    print(\"Creating UNPUBLISHED_AGENT table...\")\n",
    "    pg_cursor.execute(\"\"\"\n",
    "    CREATE TABLE IF NOT EXISTS UNPUBLISHED_AGENT (\n",
    "        agent_id VARCHAR(255) PRIMARY KEY REFERENCES AGENT(agent_id),\n",
    "        last_edited_time TIMESTAMP DEFAULT CURRENT_TIMESTAMP,\n",
    "        workflow JSONB NOT NULL,\n",
    "        md5 VARCHAR(32) NOT NULL\n",
    "    );\n",
    "    \"\"\")\n",
    "    \n",
    "    # Create PUBLISHED_AGENT table\n",
    "    print(\"Creating PUBLISHED_AGENT table...\")\n",
    "    pg_cursor.execute(\"\"\"\n",
    "    CREATE TABLE IF NOT EXISTS PUBLISHED_AGENT (\n",
    "        agent_id VARCHAR(255) PRIMARY KEY REFERENCES AGENT(agent_id),\n",
    "        last_edited_time TIMESTAMP DEFAULT CURRENT_TIMESTAMP,\n",
    "        workflow JSONB NOT NULL,\n",
    "        md5 VARCHAR(32) NOT NULL\n",
    "    );\n",
    "    \"\"\")\n",
    "    \n",
    "    # Create METADATA table\n",
    "    print(\"Creating METADATA table...\")\n",
    "    pg_cursor.execute(\"\"\"\n",
    "    CREATE TABLE IF NOT EXISTS METADATA (\n",
    "        agent_id VARCHAR(255) PRIMARY KEY REFERENCES AGENT(agent_id),\n",
    "        markdown_object JSONB NOT NULL\n",
    "    );\n",
    "    \"\"\")\n",
    "    \n",
    "    # Create ACCESS_LEVEL_TABLE table\n",
    "    print(\"Creating ACCESS_LEVEL_TABLE table...\")\n",
    "    pg_cursor.execute(\"\"\"\n",
    "    CREATE TABLE IF NOT EXISTS ACCESS_LEVEL_TABLE (\n",
    "        access_level INTEGER PRIMARY KEY,\n",
    "        access_level_name VARCHAR(50) NOT NULL,\n",
    "        descriptions_and_permissions JSONB\n",
    "    );\n",
    "    \"\"\")\n",
    "    \n",
    "    # Create CONTRACT_DETAILS table\n",
    "    print(\"Creating CONTRACT_DETAILS table...\")\n",
    "    pg_cursor.execute(\"\"\"\n",
    "    CREATE TABLE IF NOT EXISTS CONTRACT_DETAILS (\n",
    "        contract_id VARCHAR(255) PRIMARY KEY,\n",
    "        chain_id VARCHAR REFERENCES CHAIN_DETAILS(chain_id),\n",
    "        contract_name VARCHAR(100) NOT NULL,\n",
    "        contract_version VARCHAR(20) NOT NULL\n",
    "    );\n",
    "    \"\"\")\n",
    "    \n",
    "    # Create BLOCKCHAIN_AGENT_DATA table\n",
    "    print(\"Creating BLOCKCHAIN_AGENT_DATA table...\")\n",
    "    pg_cursor.execute(\"\"\"\n",
    "    CREATE TABLE IF NOT EXISTS BLOCKCHAIN_AGENT_DATA (\n",
    "        agent_id VARCHAR(255) PRIMARY KEY REFERENCES AGENT(agent_id),\n",
    "        version VARCHAR(255) NOT NULL,\n",
    "        published_date TIMESTAMP NOT NULL,\n",
    "        published_hash VARCHAR(255) NOT NULL,\n",
    "        contract_id VARCHAR(255) REFERENCES CONTRACT_DETAILS(contract_id),\n",
    "        nft_id VARCHAR(255) NOT NULL,\n",
    "        nft_mint_trx_id VARCHAR(255) NOT NULL\n",
    "    );\n",
    "    \"\"\")\n",
    "    \n",
    "    # Create NFT_ACCESS table\n",
    "    print(\"Creating NFT_ACCESS table...\")\n",
    "    pg_cursor.execute(\"\"\"\n",
    "    CREATE TABLE IF NOT EXISTS NFT_ACCESS (\n",
    "        user_id VARCHAR(255) REFERENCES USER_AUTH(user_pub_key),\n",
    "        nft_id VARCHAR(255) NOT NULL,\n",
    "        access_level INTEGER REFERENCES ACCESS_LEVEL_TABLE(access_level),\n",
    "        timestamp TIMESTAMP DEFAULT CURRENT_TIMESTAMP,\n",
    "        PRIMARY KEY (user_id, nft_id)\n",
    "    );\n",
    "    \"\"\")\n",
    "    \n",
    "    # Create CONVERSATIONS table (updated to reference USER_AUTH)\n",
    "    print(\"Creating CONVERSATIONS table (referencing USER_AUTH)...\")\n",
    "    pg_cursor.execute(\"\"\"\n",
    "    CREATE TABLE IF NOT EXISTS CONVERSATIONS (\n",
    "        conversation_id UUID PRIMARY KEY DEFAULT gen_random_uuid(),\n",
    "        user_id VARCHAR(255) REFERENCES USER_AUTH(user_pub_key),\n",
    "        title VARCHAR(255),\n",
    "        created_at TIMESTAMP DEFAULT CURRENT_TIMESTAMP\n",
    "    );\n",
    "    \"\"\")\n",
    "    \n",
    "    # Create MESSAGES table\n",
    "    print(\"Creating MESSAGES table...\")\n",
    "    pg_cursor.execute(\"\"\"\n",
    "    CREATE TABLE IF NOT EXISTS MESSAGES (\n",
    "        message_id UUID PRIMARY KEY DEFAULT gen_random_uuid(),\n",
    "        conversation_id UUID REFERENCES CONVERSATIONS(conversation_id),\n",
    "        sender_type VARCHAR(10) CHECK (sender_type IN ('user', 'assistant')),\n",
    "        agent_id VARCHAR(255) REFERENCES AGENT(agent_id),\n",
    "        content TEXT NOT NULL,\n",
    "        created_at TIMESTAMP DEFAULT CURRENT_TIMESTAMP\n",
    "    );\n",
    "    \"\"\")\n",
    "    \n",
    "    # Commit the transaction\n",
    "    pg_conn.commit()\n",
    "    print(\"All tables created successfully!\")"
   ]
  },
  {
   "cell_type": "code",
   "execution_count": 10,
   "id": "01b088ed",
   "metadata": {},
   "outputs": [
    {
     "name": "stdout",
     "output_type": "stream",
     "text": [
      "Creating salt_email table...\n"
     ]
    }
   ],
   "source": [
    "print(\"Creating salt_email table...\")\n",
    "pg_cursor.execute(\"\"\"\n",
    "CREATE TABLE IF NOT EXISTS salt_email (\n",
    "    email VARCHAR(255) PRIMARY KEY,\n",
    "    salt VARCHAR(255) NOT NULL,\n",
    "    created_at TIMESTAMP DEFAULT CURRENT_TIMESTAMP\n",
    ");\n",
    "\n",
    "\"\"\")\n",
    "pg_conn.commit()"
   ]
  },
  {
   "cell_type": "code",
   "execution_count": 11,
   "id": "f6715cf5",
   "metadata": {},
   "outputs": [],
   "source": [
    "# delete all tables\n",
    "\n",
    "def delete_all_tables():\n",
    "    \"\"\"Delete all tables in the database.\"\"\"\n",
    "    print(\"Deleting all tables...\")\n",
    "    pg_cursor.execute(\"DROP TABLE IF EXISTS salt_email CASCADE;\")\n",
    "    pg_cursor.execute(\"DROP TABLE IF EXISTS CHAIN_DETAILS CASCADE;\")\n",
    "    pg_cursor.execute(\"DROP TABLE IF EXISTS USER_AUTH CASCADE;\")\n",
    "    pg_cursor.execute(\"DROP TABLE IF EXISTS AGENT CASCADE;\")\n",
    "    pg_cursor.execute(\"DROP TABLE IF EXISTS UNPUBLISHED_AGENT CASCADE;\")\n",
    "    pg_cursor.execute(\"DROP TABLE IF EXISTS PUBLISHED_AGENT CASCADE;\")\n",
    "    pg_cursor.execute(\"DROP TABLE IF EXISTS METADATA CASCADE;\")\n",
    "    pg_cursor.execute(\"DROP TABLE IF EXISTS ACCESS_LEVEL_TABLE CASCADE;\")\n",
    "    pg_cursor.execute(\"DROP TABLE IF EXISTS CONTRACT_DETAILS CASCADE;\")\n",
    "    pg_cursor.execute(\"DROP TABLE IF EXISTS BLOCKCHAIN_AGENT_DATA CASCADE;\")\n",
    "    pg_cursor.execute(\"DROP TABLE IF EXISTS NFT_ACCESS CASCADE;\")\n",
    "    pg_cursor.execute(\"DROP TABLE IF EXISTS CONVERSATIONS CASCADE;\")\n",
    "    pg_cursor.execute(\"DROP TABLE IF EXISTS MESSAGES CASCADE;\")\n",
    "\n",
    "    # Commit the transaction\n",
    "    pg_conn.commit()\n",
    "    print(\"All tables deleted successfully!\")"
   ]
  },
  {
   "cell_type": "code",
   "execution_count": 12,
   "id": "cb2fe7bb",
   "metadata": {},
   "outputs": [
    {
     "name": "stdout",
     "output_type": "stream",
     "text": [
      "Deleting all tables...\n",
      "All tables deleted successfully!\n"
     ]
    }
   ],
   "source": [
    "delete_all_tables()"
   ]
  },
  {
   "cell_type": "code",
   "execution_count": 13,
   "id": "196fcab2",
   "metadata": {},
   "outputs": [],
   "source": [
    "def initialize_redis():\n",
    "    # Get Redis key definitions from schema\n",
    "    redis_keys = schema.get('redis', {}).get('keys', {})\n",
    "    \n",
    "    # Create sample template for each Redis key type\n",
    "    for key_name, key_def in redis_keys.items():\n",
    "        key_pattern = key_def.get('key_pattern', '')\n",
    "        key_type = key_def.get('type', 'hash')\n",
    "        ttl = key_def.get('ttl', 0)\n",
    "        fields = key_def.get('fields', [])\n",
    "        \n",
    "        # Create documentation keys with examples to help developers\n",
    "        doc_key = f\"schema:{key_name}:doc\"\n",
    "        \n",
    "        # Create an example key based on the pattern type\n",
    "        example_key = \"\"\n",
    "        if key_name == 'USER_SESSION':\n",
    "            # For user session, use a JWT token example\n",
    "            example_key = key_pattern.format(token='eyJhbGciOiJIUzI1NiI...')\n",
    "        elif key_name == 'WORKFLOW_LIVE_EDITOR':\n",
    "            # For workflow editor, use an agent_id example\n",
    "            example_key = key_pattern.format(agent_id='agent456')\n",
    "        else:\n",
    "            # For any other key type, provide a generic example\n",
    "            try:\n",
    "                # Try to format with user_id if that placeholder exists\n",
    "                example_key = key_pattern.format(user_id='user123')\n",
    "            except KeyError:\n",
    "                # If user_id placeholder doesn't exist, just use the pattern as is\n",
    "                example_key = key_pattern\n",
    "        \n",
    "        # Create documentation with field examples\n",
    "        doc_data = {\n",
    "            'key_pattern': key_pattern,\n",
    "            'type': key_type,\n",
    "            'ttl': ttl,\n",
    "            'fields': [{'name': field.get('name'), 'description': field.get('description')} for field in fields],\n",
    "            'example': example_key\n",
    "        }\n",
    "        \n",
    "        redis_conn.set(doc_key, json.dumps(doc_data))\n",
    "        print(f\"Created Redis schema documentation for {key_name}\")\n",
    "    \n",
    "    # Create metadata about synchronization system\n",
    "    sync_config = schema.get('synchronization', {})\n",
    "    redis_conn.set('schema:sync:config', json.dumps(sync_config))\n",
    "    print(\"Created Redis synchronization configuration\")"
   ]
  },
  {
   "cell_type": "code",
   "execution_count": 14,
   "id": "ff973c0c",
   "metadata": {},
   "outputs": [
    {
     "name": "stdout",
     "output_type": "stream",
     "text": [
      "Creating salt_email table...\n",
      "Creating pgcrypto extension...\n",
      "Creating CHAIN_DETAILS table...\n",
      "Creating USER_AUTH table (combined with USERS)...\n",
      "Creating AGENT table...\n",
      "Creating UNPUBLISHED_AGENT table...\n",
      "Creating PUBLISHED_AGENT table...\n",
      "Creating METADATA table...\n",
      "Creating ACCESS_LEVEL_TABLE table...\n",
      "Creating CONTRACT_DETAILS table...\n",
      "Creating BLOCKCHAIN_AGENT_DATA table...\n",
      "Creating NFT_ACCESS table...\n",
      "Creating CONVERSATIONS table (referencing USER_AUTH)...\n",
      "Creating MESSAGES table...\n",
      "All tables created successfully!\n"
     ]
    }
   ],
   "source": [
    "initialize_postgres()\n"
   ]
  },
  {
   "cell_type": "code",
   "execution_count": 15,
   "id": "55737810",
   "metadata": {},
   "outputs": [
    {
     "ename": "AuthenticationError",
     "evalue": "AUTH <password> called without any password configured for the default user. Are you sure your configuration is correct?",
     "output_type": "error",
     "traceback": [
      "\u001b[31m---------------------------------------------------------------------------\u001b[39m",
      "\u001b[31mAuthenticationError\u001b[39m                       Traceback (most recent call last)",
      "\u001b[36mCell\u001b[39m\u001b[36m \u001b[39m\u001b[32mIn[15]\u001b[39m\u001b[32m, line 1\u001b[39m\n\u001b[32m----> \u001b[39m\u001b[32m1\u001b[39m \u001b[43minitialize_redis\u001b[49m\u001b[43m(\u001b[49m\u001b[43m)\u001b[49m\n",
      "\u001b[36mCell\u001b[39m\u001b[36m \u001b[39m\u001b[32mIn[13]\u001b[39m\u001b[32m, line 41\u001b[39m, in \u001b[36minitialize_redis\u001b[39m\u001b[34m()\u001b[39m\n\u001b[32m     32\u001b[39m     \u001b[38;5;66;03m# Create documentation with field examples\u001b[39;00m\n\u001b[32m     33\u001b[39m     doc_data = {\n\u001b[32m     34\u001b[39m         \u001b[33m'\u001b[39m\u001b[33mkey_pattern\u001b[39m\u001b[33m'\u001b[39m: key_pattern,\n\u001b[32m     35\u001b[39m         \u001b[33m'\u001b[39m\u001b[33mtype\u001b[39m\u001b[33m'\u001b[39m: key_type,\n\u001b[32m   (...)\u001b[39m\u001b[32m     38\u001b[39m         \u001b[33m'\u001b[39m\u001b[33mexample\u001b[39m\u001b[33m'\u001b[39m: example_key\n\u001b[32m     39\u001b[39m     }\n\u001b[32m---> \u001b[39m\u001b[32m41\u001b[39m     \u001b[43mredis_conn\u001b[49m\u001b[43m.\u001b[49m\u001b[43mset\u001b[49m\u001b[43m(\u001b[49m\u001b[43mdoc_key\u001b[49m\u001b[43m,\u001b[49m\u001b[43m \u001b[49m\u001b[43mjson\u001b[49m\u001b[43m.\u001b[49m\u001b[43mdumps\u001b[49m\u001b[43m(\u001b[49m\u001b[43mdoc_data\u001b[49m\u001b[43m)\u001b[49m\u001b[43m)\u001b[49m\n\u001b[32m     42\u001b[39m     \u001b[38;5;28mprint\u001b[39m(\u001b[33mf\u001b[39m\u001b[33m\"\u001b[39m\u001b[33mCreated Redis schema documentation for \u001b[39m\u001b[38;5;132;01m{\u001b[39;00mkey_name\u001b[38;5;132;01m}\u001b[39;00m\u001b[33m\"\u001b[39m)\n\u001b[32m     44\u001b[39m \u001b[38;5;66;03m# Create metadata about synchronization system\u001b[39;00m\n",
      "\u001b[36mFile \u001b[39m\u001b[32m~/anaconda3/envs/neuralabs-exec/lib/python3.12/site-packages/redis/commands/core.py:2305\u001b[39m, in \u001b[36mBasicKeyCommands.set\u001b[39m\u001b[34m(self, name, value, ex, px, nx, xx, keepttl, get, exat, pxat)\u001b[39m\n\u001b[32m   2302\u001b[39m     pieces.append(\u001b[33m\"\u001b[39m\u001b[33mGET\u001b[39m\u001b[33m\"\u001b[39m)\n\u001b[32m   2303\u001b[39m     options[\u001b[33m\"\u001b[39m\u001b[33mget\u001b[39m\u001b[33m\"\u001b[39m] = \u001b[38;5;28;01mTrue\u001b[39;00m\n\u001b[32m-> \u001b[39m\u001b[32m2305\u001b[39m \u001b[38;5;28;01mreturn\u001b[39;00m \u001b[38;5;28;43mself\u001b[39;49m\u001b[43m.\u001b[49m\u001b[43mexecute_command\u001b[49m\u001b[43m(\u001b[49m\u001b[33;43m\"\u001b[39;49m\u001b[33;43mSET\u001b[39;49m\u001b[33;43m\"\u001b[39;49m\u001b[43m,\u001b[49m\u001b[43m \u001b[49m\u001b[43m*\u001b[49m\u001b[43mpieces\u001b[49m\u001b[43m,\u001b[49m\u001b[43m \u001b[49m\u001b[43m*\u001b[49m\u001b[43m*\u001b[49m\u001b[43moptions\u001b[49m\u001b[43m)\u001b[49m\n",
      "\u001b[36mFile \u001b[39m\u001b[32m~/anaconda3/envs/neuralabs-exec/lib/python3.12/site-packages/redis/client.py:623\u001b[39m, in \u001b[36mRedis.execute_command\u001b[39m\u001b[34m(self, *args, **options)\u001b[39m\n\u001b[32m    622\u001b[39m \u001b[38;5;28;01mdef\u001b[39;00m\u001b[38;5;250m \u001b[39m\u001b[34mexecute_command\u001b[39m(\u001b[38;5;28mself\u001b[39m, *args, **options):\n\u001b[32m--> \u001b[39m\u001b[32m623\u001b[39m     \u001b[38;5;28;01mreturn\u001b[39;00m \u001b[38;5;28;43mself\u001b[39;49m\u001b[43m.\u001b[49m\u001b[43m_execute_command\u001b[49m\u001b[43m(\u001b[49m\u001b[43m*\u001b[49m\u001b[43margs\u001b[49m\u001b[43m,\u001b[49m\u001b[43m \u001b[49m\u001b[43m*\u001b[49m\u001b[43m*\u001b[49m\u001b[43moptions\u001b[49m\u001b[43m)\u001b[49m\n",
      "\u001b[36mFile \u001b[39m\u001b[32m~/anaconda3/envs/neuralabs-exec/lib/python3.12/site-packages/redis/client.py:629\u001b[39m, in \u001b[36mRedis._execute_command\u001b[39m\u001b[34m(self, *args, **options)\u001b[39m\n\u001b[32m    627\u001b[39m pool = \u001b[38;5;28mself\u001b[39m.connection_pool\n\u001b[32m    628\u001b[39m command_name = args[\u001b[32m0\u001b[39m]\n\u001b[32m--> \u001b[39m\u001b[32m629\u001b[39m conn = \u001b[38;5;28mself\u001b[39m.connection \u001b[38;5;129;01mor\u001b[39;00m \u001b[43mpool\u001b[49m\u001b[43m.\u001b[49m\u001b[43mget_connection\u001b[49m\u001b[43m(\u001b[49m\u001b[43m)\u001b[49m\n\u001b[32m    631\u001b[39m \u001b[38;5;28;01mif\u001b[39;00m \u001b[38;5;28mself\u001b[39m._single_connection_client:\n\u001b[32m    632\u001b[39m     \u001b[38;5;28mself\u001b[39m.single_connection_lock.acquire()\n",
      "\u001b[36mFile \u001b[39m\u001b[32m~/anaconda3/envs/neuralabs-exec/lib/python3.12/site-packages/redis/utils.py:191\u001b[39m, in \u001b[36mdeprecated_args.<locals>.decorator.<locals>.wrapper\u001b[39m\u001b[34m(*args, **kwargs)\u001b[39m\n\u001b[32m    186\u001b[39m     \u001b[38;5;28;01melif\u001b[39;00m arg \u001b[38;5;129;01min\u001b[39;00m provided_args:\n\u001b[32m    187\u001b[39m         warn_deprecated_arg_usage(\n\u001b[32m    188\u001b[39m             arg, func.\u001b[34m__name__\u001b[39m, reason, version, stacklevel=\u001b[32m3\u001b[39m\n\u001b[32m    189\u001b[39m         )\n\u001b[32m--> \u001b[39m\u001b[32m191\u001b[39m \u001b[38;5;28;01mreturn\u001b[39;00m \u001b[43mfunc\u001b[49m\u001b[43m(\u001b[49m\u001b[43m*\u001b[49m\u001b[43margs\u001b[49m\u001b[43m,\u001b[49m\u001b[43m \u001b[49m\u001b[43m*\u001b[49m\u001b[43m*\u001b[49m\u001b[43mkwargs\u001b[49m\u001b[43m)\u001b[49m\n",
      "\u001b[36mFile \u001b[39m\u001b[32m~/anaconda3/envs/neuralabs-exec/lib/python3.12/site-packages/redis/connection.py:1530\u001b[39m, in \u001b[36mConnectionPool.get_connection\u001b[39m\u001b[34m(self, command_name, *keys, **options)\u001b[39m\n\u001b[32m   1526\u001b[39m     \u001b[38;5;28mself\u001b[39m._in_use_connections.add(connection)\n\u001b[32m   1528\u001b[39m \u001b[38;5;28;01mtry\u001b[39;00m:\n\u001b[32m   1529\u001b[39m     \u001b[38;5;66;03m# ensure this connection is connected to Redis\u001b[39;00m\n\u001b[32m-> \u001b[39m\u001b[32m1530\u001b[39m     \u001b[43mconnection\u001b[49m\u001b[43m.\u001b[49m\u001b[43mconnect\u001b[49m\u001b[43m(\u001b[49m\u001b[43m)\u001b[49m\n\u001b[32m   1531\u001b[39m     \u001b[38;5;66;03m# connections that the pool provides should be ready to send\u001b[39;00m\n\u001b[32m   1532\u001b[39m     \u001b[38;5;66;03m# a command. if not, the connection was either returned to the\u001b[39;00m\n\u001b[32m   1533\u001b[39m     \u001b[38;5;66;03m# pool before all data has been read or the socket has been\u001b[39;00m\n\u001b[32m   1534\u001b[39m     \u001b[38;5;66;03m# closed. either way, reconnect and verify everything is good.\u001b[39;00m\n\u001b[32m   1535\u001b[39m     \u001b[38;5;28;01mtry\u001b[39;00m:\n",
      "\u001b[36mFile \u001b[39m\u001b[32m~/anaconda3/envs/neuralabs-exec/lib/python3.12/site-packages/redis/connection.py:379\u001b[39m, in \u001b[36mAbstractConnection.connect\u001b[39m\u001b[34m(self)\u001b[39m\n\u001b[32m    377\u001b[39m \u001b[38;5;28;01mdef\u001b[39;00m\u001b[38;5;250m \u001b[39m\u001b[34mconnect\u001b[39m(\u001b[38;5;28mself\u001b[39m):\n\u001b[32m    378\u001b[39m     \u001b[33m\"\u001b[39m\u001b[33mConnects to the Redis server if not already connected\u001b[39m\u001b[33m\"\u001b[39m\n\u001b[32m--> \u001b[39m\u001b[32m379\u001b[39m     \u001b[38;5;28;43mself\u001b[39;49m\u001b[43m.\u001b[49m\u001b[43mconnect_check_health\u001b[49m\u001b[43m(\u001b[49m\u001b[43mcheck_health\u001b[49m\u001b[43m=\u001b[49m\u001b[38;5;28;43;01mTrue\u001b[39;49;00m\u001b[43m)\u001b[49m\n",
      "\u001b[36mFile \u001b[39m\u001b[32m~/anaconda3/envs/neuralabs-exec/lib/python3.12/site-packages/redis/connection.py:397\u001b[39m, in \u001b[36mAbstractConnection.connect_check_health\u001b[39m\u001b[34m(self, check_health)\u001b[39m\n\u001b[32m    394\u001b[39m \u001b[38;5;28;01mtry\u001b[39;00m:\n\u001b[32m    395\u001b[39m     \u001b[38;5;28;01mif\u001b[39;00m \u001b[38;5;28mself\u001b[39m.redis_connect_func \u001b[38;5;129;01mis\u001b[39;00m \u001b[38;5;28;01mNone\u001b[39;00m:\n\u001b[32m    396\u001b[39m         \u001b[38;5;66;03m# Use the default on_connect function\u001b[39;00m\n\u001b[32m--> \u001b[39m\u001b[32m397\u001b[39m         \u001b[38;5;28;43mself\u001b[39;49m\u001b[43m.\u001b[49m\u001b[43mon_connect_check_health\u001b[49m\u001b[43m(\u001b[49m\u001b[43mcheck_health\u001b[49m\u001b[43m=\u001b[49m\u001b[43mcheck_health\u001b[49m\u001b[43m)\u001b[49m\n\u001b[32m    398\u001b[39m     \u001b[38;5;28;01melse\u001b[39;00m:\n\u001b[32m    399\u001b[39m         \u001b[38;5;66;03m# Use the passed function redis_connect_func\u001b[39;00m\n\u001b[32m    400\u001b[39m         \u001b[38;5;28mself\u001b[39m.redis_connect_func(\u001b[38;5;28mself\u001b[39m)\n",
      "\u001b[36mFile \u001b[39m\u001b[32m~/anaconda3/envs/neuralabs-exec/lib/python3.12/site-packages/redis/connection.py:469\u001b[39m, in \u001b[36mAbstractConnection.on_connect_check_health\u001b[39m\u001b[34m(self, check_health)\u001b[39m\n\u001b[32m    466\u001b[39m \u001b[38;5;28mself\u001b[39m.send_command(\u001b[33m\"\u001b[39m\u001b[33mAUTH\u001b[39m\u001b[33m\"\u001b[39m, *auth_args, check_health=\u001b[38;5;28;01mFalse\u001b[39;00m)\n\u001b[32m    468\u001b[39m \u001b[38;5;28;01mtry\u001b[39;00m:\n\u001b[32m--> \u001b[39m\u001b[32m469\u001b[39m     auth_response = \u001b[38;5;28;43mself\u001b[39;49m\u001b[43m.\u001b[49m\u001b[43mread_response\u001b[49m\u001b[43m(\u001b[49m\u001b[43m)\u001b[49m\n\u001b[32m    470\u001b[39m \u001b[38;5;28;01mexcept\u001b[39;00m AuthenticationWrongNumberOfArgsError:\n\u001b[32m    471\u001b[39m     \u001b[38;5;66;03m# a username and password were specified but the Redis\u001b[39;00m\n\u001b[32m    472\u001b[39m     \u001b[38;5;66;03m# server seems to be < 6.0.0 which expects a single password\u001b[39;00m\n\u001b[32m    473\u001b[39m     \u001b[38;5;66;03m# arg. retry auth with just the password.\u001b[39;00m\n\u001b[32m    474\u001b[39m     \u001b[38;5;66;03m# https://github.com/andymccurdy/redis-py/issues/1274\u001b[39;00m\n\u001b[32m    475\u001b[39m     \u001b[38;5;28mself\u001b[39m.send_command(\u001b[33m\"\u001b[39m\u001b[33mAUTH\u001b[39m\u001b[33m\"\u001b[39m, auth_args[-\u001b[32m1\u001b[39m], check_health=\u001b[38;5;28;01mFalse\u001b[39;00m)\n",
      "\u001b[36mFile \u001b[39m\u001b[32m~/anaconda3/envs/neuralabs-exec/lib/python3.12/site-packages/redis/connection.py:644\u001b[39m, in \u001b[36mAbstractConnection.read_response\u001b[39m\u001b[34m(self, disable_decoding, disconnect_on_error, push_request)\u001b[39m\n\u001b[32m    640\u001b[39m         response = \u001b[38;5;28mself\u001b[39m._parser.read_response(\n\u001b[32m    641\u001b[39m             disable_decoding=disable_decoding, push_request=push_request\n\u001b[32m    642\u001b[39m         )\n\u001b[32m    643\u001b[39m     \u001b[38;5;28;01melse\u001b[39;00m:\n\u001b[32m--> \u001b[39m\u001b[32m644\u001b[39m         response = \u001b[38;5;28;43mself\u001b[39;49m\u001b[43m.\u001b[49m\u001b[43m_parser\u001b[49m\u001b[43m.\u001b[49m\u001b[43mread_response\u001b[49m\u001b[43m(\u001b[49m\u001b[43mdisable_decoding\u001b[49m\u001b[43m=\u001b[49m\u001b[43mdisable_decoding\u001b[49m\u001b[43m)\u001b[49m\n\u001b[32m    645\u001b[39m \u001b[38;5;28;01mexcept\u001b[39;00m socket.timeout:\n\u001b[32m    646\u001b[39m     \u001b[38;5;28;01mif\u001b[39;00m disconnect_on_error:\n",
      "\u001b[36mFile \u001b[39m\u001b[32m~/anaconda3/envs/neuralabs-exec/lib/python3.12/site-packages/redis/_parsers/resp2.py:15\u001b[39m, in \u001b[36m_RESP2Parser.read_response\u001b[39m\u001b[34m(self, disable_decoding)\u001b[39m\n\u001b[32m     13\u001b[39m pos = \u001b[38;5;28mself\u001b[39m._buffer.get_pos() \u001b[38;5;28;01mif\u001b[39;00m \u001b[38;5;28mself\u001b[39m._buffer \u001b[38;5;28;01melse\u001b[39;00m \u001b[38;5;28;01mNone\u001b[39;00m\n\u001b[32m     14\u001b[39m \u001b[38;5;28;01mtry\u001b[39;00m:\n\u001b[32m---> \u001b[39m\u001b[32m15\u001b[39m     result = \u001b[38;5;28;43mself\u001b[39;49m\u001b[43m.\u001b[49m\u001b[43m_read_response\u001b[49m\u001b[43m(\u001b[49m\u001b[43mdisable_decoding\u001b[49m\u001b[43m=\u001b[49m\u001b[43mdisable_decoding\u001b[49m\u001b[43m)\u001b[49m\n\u001b[32m     16\u001b[39m \u001b[38;5;28;01mexcept\u001b[39;00m \u001b[38;5;167;01mBaseException\u001b[39;00m:\n\u001b[32m     17\u001b[39m     \u001b[38;5;28;01mif\u001b[39;00m \u001b[38;5;28mself\u001b[39m._buffer:\n",
      "\u001b[36mFile \u001b[39m\u001b[32m~/anaconda3/envs/neuralabs-exec/lib/python3.12/site-packages/redis/_parsers/resp2.py:38\u001b[39m, in \u001b[36m_RESP2Parser._read_response\u001b[39m\u001b[34m(self, disable_decoding)\u001b[39m\n\u001b[32m     35\u001b[39m \u001b[38;5;66;03m# if the error is a ConnectionError, raise immediately so the user\u001b[39;00m\n\u001b[32m     36\u001b[39m \u001b[38;5;66;03m# is notified\u001b[39;00m\n\u001b[32m     37\u001b[39m \u001b[38;5;28;01mif\u001b[39;00m \u001b[38;5;28misinstance\u001b[39m(error, \u001b[38;5;167;01mConnectionError\u001b[39;00m):\n\u001b[32m---> \u001b[39m\u001b[32m38\u001b[39m     \u001b[38;5;28;01mraise\u001b[39;00m error\n\u001b[32m     39\u001b[39m \u001b[38;5;66;03m# otherwise, we're dealing with a ResponseError that might belong\u001b[39;00m\n\u001b[32m     40\u001b[39m \u001b[38;5;66;03m# inside a pipeline response. the connection's read_response()\u001b[39;00m\n\u001b[32m     41\u001b[39m \u001b[38;5;66;03m# and/or the pipeline's execute() will raise this error if\u001b[39;00m\n\u001b[32m     42\u001b[39m \u001b[38;5;66;03m# necessary, so just return the exception instance here.\u001b[39;00m\n\u001b[32m     43\u001b[39m \u001b[38;5;28;01mreturn\u001b[39;00m error\n",
      "\u001b[31mAuthenticationError\u001b[39m: AUTH <password> called without any password configured for the default user. Are you sure your configuration is correct?"
     ]
    }
   ],
   "source": [
    "initialize_redis()"
   ]
  },
  {
   "cell_type": "code",
   "execution_count": 16,
   "id": "d00bcc93",
   "metadata": {},
   "outputs": [
    {
     "name": "stdout",
     "output_type": "stream",
     "text": [
      "Tables created in PostgreSQL:\n",
      "salt_email\n",
      "chain_details\n",
      "user_auth\n",
      "agent\n",
      "unpublished_agent\n",
      "published_agent\n",
      "metadata\n",
      "contract_details\n",
      "blockchain_agent_data\n",
      "nft_access\n",
      "access_level_table\n",
      "conversations\n",
      "messages\n"
     ]
    }
   ],
   "source": [
    "# check the tables created\n",
    "\n",
    "pg_cursor.execute(\"SELECT table_name FROM information_schema.tables WHERE table_schema='public';\")\n",
    "tables = pg_cursor.fetchall()\n",
    "print(\"Tables created in PostgreSQL:\")\n",
    "for table in tables:\n",
    "    print(table[0])"
   ]
  },
  {
   "cell_type": "code",
   "execution_count": null,
   "id": "593be6e2",
   "metadata": {},
   "outputs": [],
   "source": []
  }
 ],
 "metadata": {
  "kernelspec": {
   "display_name": "neuralabs-exec",
   "language": "python",
   "name": "python3"
  },
  "language_info": {
   "codemirror_mode": {
    "name": "ipython",
    "version": 3
   },
   "file_extension": ".py",
   "mimetype": "text/x-python",
   "name": "python",
   "nbconvert_exporter": "python",
   "pygments_lexer": "ipython3",
   "version": "3.12.9"
  }
 },
 "nbformat": 4,
 "nbformat_minor": 5
}
