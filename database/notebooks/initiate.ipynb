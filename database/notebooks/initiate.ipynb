{
 "cells": [
  {
   "cell_type": "code",
   "execution_count": null,
   "id": "190d72fe",
   "metadata": {},
   "outputs": [],
   "source": [
    "import yaml\n",
    "import os\n",
    "import psycopg2\n",
    "import redis\n",
    "from dotenv import load_dotenv\n",
    "import json\n",
    "import hashlib\n",
    "from datetime import datetime"
   ]
  },
  {
   "cell_type": "code",
   "execution_count": null,
   "id": "a56bde80",
   "metadata": {},
   "outputs": [],
   "source": [
    "load_dotenv()"
   ]
  },
  {
   "cell_type": "code",
   "execution_count": 3,
   "id": "3517684a",
   "metadata": {},
   "outputs": [],
   "source": [
    "pg_user = os.getenv('POSTGRES_USER')\n",
    "pg_password = os.getenv('POSTGRES_PASSWORD')\n",
    "pg_db = os.getenv('POSTGRES_DB')\n",
    "pg_host = os.getenv('POSTGRES_HOST', 'localhost')\n",
    "pg_port = os.getenv('POSTGRES_PORT', '5432')\n",
    "\n",
    "redis_host = os.getenv('REDIS_HOST', 'localhost')\n",
    "redis_port = os.getenv('REDIS_PORT', '6379')\n",
    "redis_password = os.getenv('REDIS_PASSWORD')"
   ]
  },
  {
   "cell_type": "code",
   "execution_count": 4,
   "id": "31ec1d46",
   "metadata": {},
   "outputs": [],
   "source": [
    "# Load database schema from YAML file\n",
    "with open('../database_schema.yaml', 'r') as file:\n",
    "    schema = yaml.safe_load(file)"
   ]
  },
  {
   "cell_type": "code",
   "execution_count": 5,
   "id": "fe7f4b4f",
   "metadata": {},
   "outputs": [],
   "source": [
    "pg_conn = psycopg2.connect(\n",
    "    host=pg_host,\n",
    "    database=pg_db,\n",
    "    user=pg_user,\n",
    "    password=pg_password,\n",
    "    port=pg_port\n",
    ")"
   ]
  },
  {
   "cell_type": "code",
   "execution_count": 6,
   "id": "cdafb212",
   "metadata": {},
   "outputs": [
    {
     "name": "stdout",
     "output_type": "stream",
     "text": [
      "Successfully connected to PostgreSQL.\n"
     ]
    }
   ],
   "source": [
    "pg_cursor = pg_conn.cursor()\n",
    "print(\"Successfully connected to PostgreSQL.\")"
   ]
  },
  {
   "cell_type": "code",
   "execution_count": 7,
   "id": "f3474dfb",
   "metadata": {},
   "outputs": [
    {
     "name": "stdout",
     "output_type": "stream",
     "text": [
      "Successfully connected to Redis.\n"
     ]
    }
   ],
   "source": [
    "redis_conn = redis.Redis(\n",
    "    host=redis_host,\n",
    "    port=int(redis_port),\n",
    "    password=redis_password,\n",
    "    decode_responses=True\n",
    ")\n",
    "\n",
    "redis_conn.ping()  # Check if connection is active\n",
    "print(\"Successfully connected to Redis.\")"
   ]
  },
  {
   "cell_type": "code",
   "execution_count": 8,
   "id": "961ec371",
   "metadata": {},
   "outputs": [],
   "source": [
    "def initialize_postgres():\n",
    "    \"\"\"Create all tables with USER_AUTH as the combined user table\"\"\"\n",
    "    \n",
    "    \n",
    "    # Creat salt_email table\n",
    "    print(\"Creating salt_email table...\")\n",
    "    pg_cursor.execute(\"\"\"\n",
    "    CREATE TABLE IF NOT EXISTS salt_email (\n",
    "        email VARCHAR(255) PRIMARY KEY,\n",
    "        salt VARCHAR(255) NOT NULL,\n",
    "        created_at TIMESTAMP DEFAULT CURRENT_TIMESTAMP\n",
    "    );\n",
    "    \"\"\")\n",
    "    \n",
    "    # Create extension for UUID generation\n",
    "    print(\"Creating pgcrypto extension...\")\n",
    "    pg_cursor.execute(\"CREATE EXTENSION IF NOT EXISTS pgcrypto;\")\n",
    "    \n",
    "    # Create CHAIN_DETAILS table\n",
    "    print(\"Creating CHAIN_DETAILS table...\")\n",
    "    pg_cursor.execute(\"\"\"\n",
    "    CREATE TABLE IF NOT EXISTS CHAIN_DETAILS (\n",
    "        chain_id VARCHAR(255) PRIMARY KEY,\n",
    "        chain VARCHAR(100) NOT NULL,\n",
    "        chain_status VARCHAR(50) NOT NULL,\n",
    "        chain_explorer VARCHAR(255)\n",
    "    );\n",
    "    \"\"\")\n",
    "    \n",
    "    # Create USER_AUTH table (combined with USERS)\n",
    "    print(\"Creating USER_AUTH table (combined with USERS)...\")\n",
    "    pg_cursor.execute(\"\"\"\n",
    "    CREATE TABLE IF NOT EXISTS USER_AUTH (\n",
    "        user_pub_key VARCHAR(255) PRIMARY KEY,\n",
    "        username VARCHAR(100),\n",
    "        email VARCHAR(255),\n",
    "        chain_id VARCHAR REFERENCES CHAIN_DETAILS(chain_id),\n",
    "        created_at TIMESTAMP DEFAULT CURRENT_TIMESTAMP\n",
    "    );\n",
    "    \"\"\")\n",
    "    \n",
    "    # Create AGENT table\n",
    "    print(\"Creating AGENT table...\")\n",
    "    pg_cursor.execute(\"\"\"\n",
    "    CREATE TABLE IF NOT EXISTS AGENT (\n",
    "        agent_id VARCHAR(255) PRIMARY KEY,\n",
    "        creation_date TIMESTAMP DEFAULT CURRENT_TIMESTAMP,\n",
    "        owner VARCHAR(255) REFERENCES USER_AUTH(user_pub_key),\n",
    "        status VARCHAR(20) CHECK (status IN ('Active', 'Not Published')),\n",
    "        tags JSONB,\n",
    "        license VARCHAR(255),\n",
    "        fork VARCHAR(255),\n",
    "        socials JSONB,\n",
    "        description TEXT,\n",
    "        name VARCHAR(255) NOT NULL,\n",
    "        chain_id VARCHAR REFERENCES CHAIN_DETAILS(chain_id)\n",
    "    );\n",
    "    \"\"\")\n",
    "    \n",
    "    # Create UNPUBLISHED_AGENT table\n",
    "    print(\"Creating UNPUBLISHED_AGENT table...\")\n",
    "    pg_cursor.execute(\"\"\"\n",
    "    CREATE TABLE IF NOT EXISTS UNPUBLISHED_AGENT (\n",
    "        agent_id VARCHAR(255) PRIMARY KEY REFERENCES AGENT(agent_id),\n",
    "        last_edited_time TIMESTAMP DEFAULT CURRENT_TIMESTAMP,\n",
    "        workflow JSONB NOT NULL,\n",
    "        md5 VARCHAR(32) NOT NULL\n",
    "    );\n",
    "    \"\"\")\n",
    "    \n",
    "    # Create PUBLISHED_AGENT table\n",
    "    print(\"Creating PUBLISHED_AGENT table...\")\n",
    "    pg_cursor.execute(\"\"\"\n",
    "    CREATE TABLE IF NOT EXISTS PUBLISHED_AGENT (\n",
    "        agent_id VARCHAR(255) PRIMARY KEY REFERENCES AGENT(agent_id),\n",
    "        last_edited_time TIMESTAMP DEFAULT CURRENT_TIMESTAMP,\n",
    "        workflow JSONB NOT NULL,\n",
    "        md5 VARCHAR(32) NOT NULL\n",
    "    );\n",
    "    \"\"\")\n",
    "    \n",
    "    # Create METADATA table\n",
    "    print(\"Creating METADATA table...\")\n",
    "    pg_cursor.execute(\"\"\"\n",
    "    CREATE TABLE IF NOT EXISTS METADATA (\n",
    "        agent_id VARCHAR(255) PRIMARY KEY REFERENCES AGENT(agent_id),\n",
    "        markdown_object JSONB NOT NULL\n",
    "    );\n",
    "    \"\"\")\n",
    "    \n",
    "    # Create ACCESS_LEVEL_TABLE table\n",
    "    print(\"Creating ACCESS_LEVEL_TABLE table...\")\n",
    "    pg_cursor.execute(\"\"\"\n",
    "    CREATE TABLE IF NOT EXISTS ACCESS_LEVEL_TABLE (\n",
    "        access_level INTEGER PRIMARY KEY,\n",
    "        access_level_name VARCHAR(50) NOT NULL,\n",
    "        descriptions_and_permissions JSONB\n",
    "    );\n",
    "    \"\"\")\n",
    "    \n",
    "    # Create CONTRACT_DETAILS table\n",
    "    print(\"Creating CONTRACT_DETAILS table...\")\n",
    "    pg_cursor.execute(\"\"\"\n",
    "    CREATE TABLE IF NOT EXISTS CONTRACT_DETAILS (\n",
    "        contract_id VARCHAR(255) PRIMARY KEY,\n",
    "        chain_id VARCHAR REFERENCES CHAIN_DETAILS(chain_id),\n",
    "        contract_name VARCHAR(100) NOT NULL,\n",
    "        contract_version VARCHAR(20) NOT NULL\n",
    "    );\n",
    "    \"\"\")\n",
    "    \n",
    "    # Create BLOCKCHAIN_AGENT_DATA table\n",
    "    print(\"Creating BLOCKCHAIN_AGENT_DATA table...\")\n",
    "    pg_cursor.execute(\"\"\"\n",
    "    CREATE TABLE IF NOT EXISTS BLOCKCHAIN_AGENT_DATA (\n",
    "        agent_id VARCHAR(255) PRIMARY KEY REFERENCES AGENT(agent_id),\n",
    "        version VARCHAR(255) NOT NULL,\n",
    "        published_date TIMESTAMP NOT NULL,\n",
    "        published_hash VARCHAR(255) NOT NULL,\n",
    "        contract_id VARCHAR(255) REFERENCES CONTRACT_DETAILS(contract_id),\n",
    "        nft_id VARCHAR(255) NOT NULL,\n",
    "        nft_mint_trx_id VARCHAR(255) NOT NULL\n",
    "    );\n",
    "    \"\"\")\n",
    "    \n",
    "    # Create NFT_ACCESS table\n",
    "    print(\"Creating NFT_ACCESS table...\")\n",
    "    pg_cursor.execute(\"\"\"\n",
    "    CREATE TABLE IF NOT EXISTS NFT_ACCESS (\n",
    "        user_id VARCHAR(255) REFERENCES USER_AUTH(user_pub_key),\n",
    "        nft_id VARCHAR(255) NOT NULL,\n",
    "        access_level INTEGER REFERENCES ACCESS_LEVEL_TABLE(access_level),\n",
    "        timestamp TIMESTAMP DEFAULT CURRENT_TIMESTAMP,\n",
    "        PRIMARY KEY (user_id, nft_id)\n",
    "    );\n",
    "    \"\"\")\n",
    "    \n",
    "    # Create CONVERSATIONS table (updated to reference USER_AUTH)\n",
    "    print(\"Creating CONVERSATIONS table (referencing USER_AUTH)...\")\n",
    "    pg_cursor.execute(\"\"\"\n",
    "    CREATE TABLE IF NOT EXISTS CONVERSATIONS (\n",
    "        conversation_id UUID PRIMARY KEY DEFAULT gen_random_uuid(),\n",
    "        user_id VARCHAR(255) REFERENCES USER_AUTH(user_pub_key),\n",
    "        title VARCHAR(255),\n",
    "        created_at TIMESTAMP DEFAULT CURRENT_TIMESTAMP\n",
    "    );\n",
    "    \"\"\")\n",
    "    \n",
    "    # Create MESSAGES table\n",
    "    print(\"Creating MESSAGES table...\")\n",
    "    pg_cursor.execute(\"\"\"\n",
    "    CREATE TABLE IF NOT EXISTS MESSAGES (\n",
    "        message_id UUID PRIMARY KEY DEFAULT gen_random_uuid(),\n",
    "        conversation_id UUID REFERENCES CONVERSATIONS(conversation_id),\n",
    "        sender_type VARCHAR(10) CHECK (sender_type IN ('user', 'assistant')),\n",
    "        agent_id VARCHAR(255) REFERENCES AGENT(agent_id),\n",
    "        content TEXT NOT NULL,\n",
    "        created_at TIMESTAMP DEFAULT CURRENT_TIMESTAMP\n",
    "    );\n",
    "    \"\"\")\n",
    "    \n",
    "    # Commit the transaction\n",
    "    pg_conn.commit()\n",
    "    print(\"All tables created successfully!\")"
   ]
  },
  {
   "cell_type": "code",
   "execution_count": 9,
   "id": "01b088ed",
   "metadata": {},
   "outputs": [],
   "source": [
    "# print(\"Creating salt_email table...\")\n",
    "# pg_cursor.execute(\"\"\"\n",
    "# CREATE TABLE IF NOT EXISTS salt_email (\n",
    "#     email VARCHAR(255) PRIMARY KEY,\n",
    "#     salt VARCHAR(255) NOT NULL,\n",
    "#     created_at TIMESTAMP DEFAULT CURRENT_TIMESTAMP\n",
    "# );\n",
    "\n",
    "# \"\"\")\n",
    "# pg_conn.commit()"
   ]
  },
  {
   "cell_type": "code",
   "execution_count": 10,
   "id": "f6715cf5",
   "metadata": {},
   "outputs": [],
   "source": [
    "# delete all tables\n",
    "\n",
    "def delete_all_tables():\n",
    "    \"\"\"Delete all tables in the database.\"\"\"\n",
    "    print(\"Deleting all tables...\")\n",
    "    pg_cursor.execute(\"DROP TABLE IF EXISTS salt_email CASCADE;\")\n",
    "    pg_cursor.execute(\"DROP TABLE IF EXISTS CHAIN_DETAILS CASCADE;\")\n",
    "    pg_cursor.execute(\"DROP TABLE IF EXISTS USER_AUTH CASCADE;\")\n",
    "    pg_cursor.execute(\"DROP TABLE IF EXISTS AGENT CASCADE;\")\n",
    "    pg_cursor.execute(\"DROP TABLE IF EXISTS UNPUBLISHED_AGENT CASCADE;\")\n",
    "    pg_cursor.execute(\"DROP TABLE IF EXISTS PUBLISHED_AGENT CASCADE;\")\n",
    "    pg_cursor.execute(\"DROP TABLE IF EXISTS METADATA CASCADE;\")\n",
    "    pg_cursor.execute(\"DROP TABLE IF EXISTS ACCESS_LEVEL_TABLE CASCADE;\")\n",
    "    pg_cursor.execute(\"DROP TABLE IF EXISTS CONTRACT_DETAILS CASCADE;\")\n",
    "    pg_cursor.execute(\"DROP TABLE IF EXISTS BLOCKCHAIN_AGENT_DATA CASCADE;\")\n",
    "    pg_cursor.execute(\"DROP TABLE IF EXISTS NFT_ACCESS CASCADE;\")\n",
    "    pg_cursor.execute(\"DROP TABLE IF EXISTS CONVERSATIONS CASCADE;\")\n",
    "    pg_cursor.execute(\"DROP TABLE IF EXISTS MESSAGES CASCADE;\")\n",
    "\n",
    "    # Commit the transaction\n",
    "    pg_conn.commit()\n",
    "    print(\"All tables deleted successfully!\")"
   ]
  },
  {
   "cell_type": "code",
   "execution_count": 11,
   "id": "cb2fe7bb",
   "metadata": {},
   "outputs": [],
   "source": [
    "# delete_all_tables()"
   ]
  },
  {
   "cell_type": "code",
   "execution_count": 12,
   "id": "196fcab2",
   "metadata": {},
   "outputs": [],
   "source": [
    "def initialize_redis():\n",
    "    # Get Redis key definitions from schema\n",
    "    redis_keys = schema.get('redis', {}).get('keys', {})\n",
    "    \n",
    "    # Create sample template for each Redis key type\n",
    "    for key_name, key_def in redis_keys.items():\n",
    "        key_pattern = key_def.get('key_pattern', '')\n",
    "        key_type = key_def.get('type', 'hash')\n",
    "        ttl = key_def.get('ttl', 0)\n",
    "        fields = key_def.get('fields', [])\n",
    "        \n",
    "        # Create documentation keys with examples to help developers\n",
    "        doc_key = f\"schema:{key_name}:doc\"\n",
    "        \n",
    "        # Create an example key based on the pattern type\n",
    "        example_key = \"\"\n",
    "        if key_name == 'USER_SESSION':\n",
    "            # For user session, use a JWT token example\n",
    "            example_key = key_pattern.format(token='eyJhbGciOiJIUzI1NiI...')\n",
    "        elif key_name == 'WORKFLOW_LIVE_EDITOR':\n",
    "            # For workflow editor, use an agent_id example\n",
    "            example_key = key_pattern.format(agent_id='agent456')\n",
    "        else:\n",
    "            # For any other key type, provide a generic example\n",
    "            try:\n",
    "                # Try to format with user_id if that placeholder exists\n",
    "                example_key = key_pattern.format(user_id='user123')\n",
    "            except KeyError:\n",
    "                # If user_id placeholder doesn't exist, just use the pattern as is\n",
    "                example_key = key_pattern\n",
    "        \n",
    "        # Create documentation with field examples\n",
    "        doc_data = {\n",
    "            'key_pattern': key_pattern,\n",
    "            'type': key_type,\n",
    "            'ttl': ttl,\n",
    "            'fields': [{'name': field.get('name'), 'description': field.get('description')} for field in fields],\n",
    "            'example': example_key\n",
    "        }\n",
    "        \n",
    "        redis_conn.set(doc_key, json.dumps(doc_data))\n",
    "        print(f\"Created Redis schema documentation for {key_name}\")\n",
    "    \n",
    "    # Create metadata about synchronization system\n",
    "    sync_config = schema.get('synchronization', {})\n",
    "    redis_conn.set('schema:sync:config', json.dumps(sync_config))\n",
    "    print(\"Created Redis synchronization configuration\")"
   ]
  },
  {
   "cell_type": "code",
   "execution_count": 13,
   "id": "ff973c0c",
   "metadata": {},
   "outputs": [
    {
     "name": "stdout",
     "output_type": "stream",
     "text": [
      "Creating salt_email table...\n",
      "Creating pgcrypto extension...\n",
      "Creating CHAIN_DETAILS table...\n",
      "Creating USER_AUTH table (combined with USERS)...\n",
      "Creating AGENT table...\n",
      "Creating UNPUBLISHED_AGENT table...\n",
      "Creating PUBLISHED_AGENT table...\n",
      "Creating METADATA table...\n",
      "Creating ACCESS_LEVEL_TABLE table...\n",
      "Creating CONTRACT_DETAILS table...\n",
      "Creating BLOCKCHAIN_AGENT_DATA table...\n",
      "Creating NFT_ACCESS table...\n",
      "Creating CONVERSATIONS table (referencing USER_AUTH)...\n",
      "Creating MESSAGES table...\n",
      "All tables created successfully!\n"
     ]
    }
   ],
   "source": [
    "initialize_postgres()\n"
   ]
  },
  {
   "cell_type": "code",
   "execution_count": 14,
   "id": "55737810",
   "metadata": {},
   "outputs": [
    {
     "name": "stdout",
     "output_type": "stream",
     "text": [
      "Created Redis schema documentation for USER_SESSION\n",
      "Created Redis schema documentation for WORKFLOW_LIVE_EDITOR\n",
      "Created Redis synchronization configuration\n"
     ]
    }
   ],
   "source": [
    "initialize_redis()"
   ]
  },
  {
   "cell_type": "code",
   "execution_count": 15,
   "id": "d00bcc93",
   "metadata": {},
   "outputs": [
    {
     "name": "stdout",
     "output_type": "stream",
     "text": [
      "Tables created in PostgreSQL:\n",
      "salt_email\n",
      "chain_details\n",
      "user_auth\n",
      "agent\n",
      "unpublished_agent\n",
      "published_agent\n",
      "metadata\n",
      "contract_details\n",
      "blockchain_agent_data\n",
      "nft_access\n",
      "access_level_table\n",
      "conversations\n",
      "messages\n"
     ]
    }
   ],
   "source": [
    "# check the tables created\n",
    "\n",
    "pg_cursor.execute(\"SELECT table_name FROM information_schema.tables WHERE table_schema='public';\")\n",
    "tables = pg_cursor.fetchall()\n",
    "print(\"Tables created in PostgreSQL:\")\n",
    "for table in tables:\n",
    "    print(table[0])"
   ]
  },
  {
   "cell_type": "code",
   "execution_count": null,
   "id": "593be6e2",
   "metadata": {},
   "outputs": [],
   "source": []
  },
  {
   "cell_type": "code",
   "execution_count": null,
   "id": "f2e63476",
   "metadata": {},
   "outputs": [],
   "source": []
  }
 ],
 "metadata": {
  "kernelspec": {
   "display_name": "neuralabs-exec",
   "language": "python",
   "name": "python3"
  },
  "language_info": {
   "codemirror_mode": {
    "name": "ipython",
    "version": 3
   },
   "file_extension": ".py",
   "mimetype": "text/x-python",
   "name": "python",
   "nbconvert_exporter": "python",
   "pygments_lexer": "ipython3",
   "version": "3.12.9"
  }
 },
 "nbformat": 4,
 "nbformat_minor": 5
}
